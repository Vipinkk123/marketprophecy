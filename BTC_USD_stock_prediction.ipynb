{
  "nbformat": 4,
  "nbformat_minor": 0,
  "metadata": {
    "colab": {
      "name": "BTC_USD_stock_prediction.ipynb",
      "provenance": [],
      "collapsed_sections": []
    },
    "kernelspec": {
      "name": "python3",
      "display_name": "Python 3"
    },
    "language_info": {
      "name": "python"
    }
  },
  "cells": [
    {
      "cell_type": "code",
      "execution_count": 63,
      "metadata": {
        "id": "HEcKVKPHZ-Oh"
      },
      "outputs": [],
      "source": [
        "#Importing the Libraries\n",
        "import numpy as np\n",
        "import pandas as pd\n",
        "import matplotlib.pyplot as plt\n",
        "import seaborn as sns\n",
        "from sklearn.model_selection import train_test_split\n",
        "from sklearn.preprocessing import StandardScaler\n",
        "from sklearn.metrics import mean_squared_error, r2_score,mean_absolute_error\n",
        "from sklearn.linear_model import LinearRegression"
      ]
    },
    {
      "cell_type": "markdown",
      "source": [
        "Data Collection and Processing"
      ],
      "metadata": {
        "id": "MYFAOe_uo5Oq"
      }
    },
    {
      "cell_type": "code",
      "source": [
        "# loading the data\n",
        "train_data= pd.read_csv('/content/BTC-USD Training Data - 1st Jan 2016 to 1st Jan 2022.csv', parse_dates=[0])"
      ],
      "metadata": {
        "id": "kkjGsMFgorlm"
      },
      "execution_count": 64,
      "outputs": []
    },
    {
      "cell_type": "code",
      "source": [
        "# print first 5 rows in the dataframe\n",
        "train_data.head()"
      ],
      "metadata": {
        "colab": {
          "base_uri": "https://localhost:8080/",
          "height": 206
        },
        "id": "XnXThuMPrG9f",
        "outputId": "dafcb710-2496-4f03-cf13-b4cf05aedc15"
      },
      "execution_count": 65,
      "outputs": [
        {
          "output_type": "execute_result",
          "data": {
            "text/html": [
              "\n",
              "  <div id=\"df-039fc23c-bfa7-4162-8c06-ff69c227f309\">\n",
              "    <div class=\"colab-df-container\">\n",
              "      <div>\n",
              "<style scoped>\n",
              "    .dataframe tbody tr th:only-of-type {\n",
              "        vertical-align: middle;\n",
              "    }\n",
              "\n",
              "    .dataframe tbody tr th {\n",
              "        vertical-align: top;\n",
              "    }\n",
              "\n",
              "    .dataframe thead th {\n",
              "        text-align: right;\n",
              "    }\n",
              "</style>\n",
              "<table border=\"1\" class=\"dataframe\">\n",
              "  <thead>\n",
              "    <tr style=\"text-align: right;\">\n",
              "      <th></th>\n",
              "      <th>Date</th>\n",
              "      <th>Open</th>\n",
              "      <th>High</th>\n",
              "      <th>Low</th>\n",
              "      <th>Close</th>\n",
              "      <th>Adj Close</th>\n",
              "      <th>Volume</th>\n",
              "    </tr>\n",
              "  </thead>\n",
              "  <tbody>\n",
              "    <tr>\n",
              "      <th>0</th>\n",
              "      <td>2016-01-01</td>\n",
              "      <td>430.721008</td>\n",
              "      <td>436.246002</td>\n",
              "      <td>427.515015</td>\n",
              "      <td>434.334015</td>\n",
              "      <td>434.334015</td>\n",
              "      <td>36278900</td>\n",
              "    </tr>\n",
              "    <tr>\n",
              "      <th>1</th>\n",
              "      <td>2016-01-02</td>\n",
              "      <td>434.622009</td>\n",
              "      <td>436.062012</td>\n",
              "      <td>431.869995</td>\n",
              "      <td>433.437988</td>\n",
              "      <td>433.437988</td>\n",
              "      <td>30096600</td>\n",
              "    </tr>\n",
              "    <tr>\n",
              "      <th>2</th>\n",
              "      <td>2016-01-03</td>\n",
              "      <td>433.578003</td>\n",
              "      <td>433.743011</td>\n",
              "      <td>424.705994</td>\n",
              "      <td>430.010986</td>\n",
              "      <td>430.010986</td>\n",
              "      <td>39633800</td>\n",
              "    </tr>\n",
              "    <tr>\n",
              "      <th>3</th>\n",
              "      <td>2016-01-04</td>\n",
              "      <td>430.061005</td>\n",
              "      <td>434.516998</td>\n",
              "      <td>429.084015</td>\n",
              "      <td>433.091003</td>\n",
              "      <td>433.091003</td>\n",
              "      <td>38477500</td>\n",
              "    </tr>\n",
              "    <tr>\n",
              "      <th>4</th>\n",
              "      <td>2016-01-05</td>\n",
              "      <td>433.069000</td>\n",
              "      <td>434.182007</td>\n",
              "      <td>429.675995</td>\n",
              "      <td>431.959991</td>\n",
              "      <td>431.959991</td>\n",
              "      <td>34522600</td>\n",
              "    </tr>\n",
              "  </tbody>\n",
              "</table>\n",
              "</div>\n",
              "      <button class=\"colab-df-convert\" onclick=\"convertToInteractive('df-039fc23c-bfa7-4162-8c06-ff69c227f309')\"\n",
              "              title=\"Convert this dataframe to an interactive table.\"\n",
              "              style=\"display:none;\">\n",
              "        \n",
              "  <svg xmlns=\"http://www.w3.org/2000/svg\" height=\"24px\"viewBox=\"0 0 24 24\"\n",
              "       width=\"24px\">\n",
              "    <path d=\"M0 0h24v24H0V0z\" fill=\"none\"/>\n",
              "    <path d=\"M18.56 5.44l.94 2.06.94-2.06 2.06-.94-2.06-.94-.94-2.06-.94 2.06-2.06.94zm-11 1L8.5 8.5l.94-2.06 2.06-.94-2.06-.94L8.5 2.5l-.94 2.06-2.06.94zm10 10l.94 2.06.94-2.06 2.06-.94-2.06-.94-.94-2.06-.94 2.06-2.06.94z\"/><path d=\"M17.41 7.96l-1.37-1.37c-.4-.4-.92-.59-1.43-.59-.52 0-1.04.2-1.43.59L10.3 9.45l-7.72 7.72c-.78.78-.78 2.05 0 2.83L4 21.41c.39.39.9.59 1.41.59.51 0 1.02-.2 1.41-.59l7.78-7.78 2.81-2.81c.8-.78.8-2.07 0-2.86zM5.41 20L4 18.59l7.72-7.72 1.47 1.35L5.41 20z\"/>\n",
              "  </svg>\n",
              "      </button>\n",
              "      \n",
              "  <style>\n",
              "    .colab-df-container {\n",
              "      display:flex;\n",
              "      flex-wrap:wrap;\n",
              "      gap: 12px;\n",
              "    }\n",
              "\n",
              "    .colab-df-convert {\n",
              "      background-color: #E8F0FE;\n",
              "      border: none;\n",
              "      border-radius: 50%;\n",
              "      cursor: pointer;\n",
              "      display: none;\n",
              "      fill: #1967D2;\n",
              "      height: 32px;\n",
              "      padding: 0 0 0 0;\n",
              "      width: 32px;\n",
              "    }\n",
              "\n",
              "    .colab-df-convert:hover {\n",
              "      background-color: #E2EBFA;\n",
              "      box-shadow: 0px 1px 2px rgba(60, 64, 67, 0.3), 0px 1px 3px 1px rgba(60, 64, 67, 0.15);\n",
              "      fill: #174EA6;\n",
              "    }\n",
              "\n",
              "    [theme=dark] .colab-df-convert {\n",
              "      background-color: #3B4455;\n",
              "      fill: #D2E3FC;\n",
              "    }\n",
              "\n",
              "    [theme=dark] .colab-df-convert:hover {\n",
              "      background-color: #434B5C;\n",
              "      box-shadow: 0px 1px 3px 1px rgba(0, 0, 0, 0.15);\n",
              "      filter: drop-shadow(0px 1px 2px rgba(0, 0, 0, 0.3));\n",
              "      fill: #FFFFFF;\n",
              "    }\n",
              "  </style>\n",
              "\n",
              "      <script>\n",
              "        const buttonEl =\n",
              "          document.querySelector('#df-039fc23c-bfa7-4162-8c06-ff69c227f309 button.colab-df-convert');\n",
              "        buttonEl.style.display =\n",
              "          google.colab.kernel.accessAllowed ? 'block' : 'none';\n",
              "\n",
              "        async function convertToInteractive(key) {\n",
              "          const element = document.querySelector('#df-039fc23c-bfa7-4162-8c06-ff69c227f309');\n",
              "          const dataTable =\n",
              "            await google.colab.kernel.invokeFunction('convertToInteractive',\n",
              "                                                     [key], {});\n",
              "          if (!dataTable) return;\n",
              "\n",
              "          const docLinkHtml = 'Like what you see? Visit the ' +\n",
              "            '<a target=\"_blank\" href=https://colab.research.google.com/notebooks/data_table.ipynb>data table notebook</a>'\n",
              "            + ' to learn more about interactive tables.';\n",
              "          element.innerHTML = '';\n",
              "          dataTable['output_type'] = 'display_data';\n",
              "          await google.colab.output.renderOutput(dataTable, element);\n",
              "          const docLink = document.createElement('div');\n",
              "          docLink.innerHTML = docLinkHtml;\n",
              "          element.appendChild(docLink);\n",
              "        }\n",
              "      </script>\n",
              "    </div>\n",
              "  </div>\n",
              "  "
            ],
            "text/plain": [
              "        Date        Open        High  ...       Close   Adj Close    Volume\n",
              "0 2016-01-01  430.721008  436.246002  ...  434.334015  434.334015  36278900\n",
              "1 2016-01-02  434.622009  436.062012  ...  433.437988  433.437988  30096600\n",
              "2 2016-01-03  433.578003  433.743011  ...  430.010986  430.010986  39633800\n",
              "3 2016-01-04  430.061005  434.516998  ...  433.091003  433.091003  38477500\n",
              "4 2016-01-05  433.069000  434.182007  ...  431.959991  431.959991  34522600\n",
              "\n",
              "[5 rows x 7 columns]"
            ]
          },
          "metadata": {},
          "execution_count": 65
        }
      ]
    },
    {
      "cell_type": "code",
      "source": [
        "train_data['Date'].dtype"
      ],
      "metadata": {
        "colab": {
          "base_uri": "https://localhost:8080/"
        },
        "id": "Vz9Ap_kSrR28",
        "outputId": "988df8db-0a11-417c-e3c3-fba2dad26830"
      },
      "execution_count": 66,
      "outputs": [
        {
          "output_type": "execute_result",
          "data": {
            "text/plain": [
              "dtype('<M8[ns]')"
            ]
          },
          "metadata": {},
          "execution_count": 66
        }
      ]
    },
    {
      "cell_type": "code",
      "source": [
        "# print last 5 rows of the dataframe\n",
        "train_data.tail()"
      ],
      "metadata": {
        "colab": {
          "base_uri": "https://localhost:8080/",
          "height": 206
        },
        "id": "cjhOvcu0rc8e",
        "outputId": "9ff0dfe5-806d-4dfd-9f7e-21fa850d6275"
      },
      "execution_count": 67,
      "outputs": [
        {
          "output_type": "execute_result",
          "data": {
            "text/html": [
              "\n",
              "  <div id=\"df-ef964c2e-f4d7-469e-8d3b-de619c554b88\">\n",
              "    <div class=\"colab-df-container\">\n",
              "      <div>\n",
              "<style scoped>\n",
              "    .dataframe tbody tr th:only-of-type {\n",
              "        vertical-align: middle;\n",
              "    }\n",
              "\n",
              "    .dataframe tbody tr th {\n",
              "        vertical-align: top;\n",
              "    }\n",
              "\n",
              "    .dataframe thead th {\n",
              "        text-align: right;\n",
              "    }\n",
              "</style>\n",
              "<table border=\"1\" class=\"dataframe\">\n",
              "  <thead>\n",
              "    <tr style=\"text-align: right;\">\n",
              "      <th></th>\n",
              "      <th>Date</th>\n",
              "      <th>Open</th>\n",
              "      <th>High</th>\n",
              "      <th>Low</th>\n",
              "      <th>Close</th>\n",
              "      <th>Adj Close</th>\n",
              "      <th>Volume</th>\n",
              "    </tr>\n",
              "  </thead>\n",
              "  <tbody>\n",
              "    <tr>\n",
              "      <th>2188</th>\n",
              "      <td>2021-12-28</td>\n",
              "      <td>50679.859375</td>\n",
              "      <td>50679.859375</td>\n",
              "      <td>47414.210938</td>\n",
              "      <td>47588.855469</td>\n",
              "      <td>47588.855469</td>\n",
              "      <td>33430376883</td>\n",
              "    </tr>\n",
              "    <tr>\n",
              "      <th>2189</th>\n",
              "      <td>2021-12-29</td>\n",
              "      <td>47623.871094</td>\n",
              "      <td>48119.742188</td>\n",
              "      <td>46201.496094</td>\n",
              "      <td>46444.710938</td>\n",
              "      <td>46444.710938</td>\n",
              "      <td>30049226299</td>\n",
              "    </tr>\n",
              "    <tr>\n",
              "      <th>2190</th>\n",
              "      <td>2021-12-30</td>\n",
              "      <td>46490.605469</td>\n",
              "      <td>47879.964844</td>\n",
              "      <td>46060.312500</td>\n",
              "      <td>47178.125000</td>\n",
              "      <td>47178.125000</td>\n",
              "      <td>26686491018</td>\n",
              "    </tr>\n",
              "    <tr>\n",
              "      <th>2191</th>\n",
              "      <td>2021-12-31</td>\n",
              "      <td>47169.371094</td>\n",
              "      <td>48472.527344</td>\n",
              "      <td>45819.953125</td>\n",
              "      <td>46306.445313</td>\n",
              "      <td>46306.445313</td>\n",
              "      <td>36974172400</td>\n",
              "    </tr>\n",
              "    <tr>\n",
              "      <th>2192</th>\n",
              "      <td>2022-01-01</td>\n",
              "      <td>46311.746094</td>\n",
              "      <td>47827.312500</td>\n",
              "      <td>46288.484375</td>\n",
              "      <td>47686.812500</td>\n",
              "      <td>47686.812500</td>\n",
              "      <td>24582667004</td>\n",
              "    </tr>\n",
              "  </tbody>\n",
              "</table>\n",
              "</div>\n",
              "      <button class=\"colab-df-convert\" onclick=\"convertToInteractive('df-ef964c2e-f4d7-469e-8d3b-de619c554b88')\"\n",
              "              title=\"Convert this dataframe to an interactive table.\"\n",
              "              style=\"display:none;\">\n",
              "        \n",
              "  <svg xmlns=\"http://www.w3.org/2000/svg\" height=\"24px\"viewBox=\"0 0 24 24\"\n",
              "       width=\"24px\">\n",
              "    <path d=\"M0 0h24v24H0V0z\" fill=\"none\"/>\n",
              "    <path d=\"M18.56 5.44l.94 2.06.94-2.06 2.06-.94-2.06-.94-.94-2.06-.94 2.06-2.06.94zm-11 1L8.5 8.5l.94-2.06 2.06-.94-2.06-.94L8.5 2.5l-.94 2.06-2.06.94zm10 10l.94 2.06.94-2.06 2.06-.94-2.06-.94-.94-2.06-.94 2.06-2.06.94z\"/><path d=\"M17.41 7.96l-1.37-1.37c-.4-.4-.92-.59-1.43-.59-.52 0-1.04.2-1.43.59L10.3 9.45l-7.72 7.72c-.78.78-.78 2.05 0 2.83L4 21.41c.39.39.9.59 1.41.59.51 0 1.02-.2 1.41-.59l7.78-7.78 2.81-2.81c.8-.78.8-2.07 0-2.86zM5.41 20L4 18.59l7.72-7.72 1.47 1.35L5.41 20z\"/>\n",
              "  </svg>\n",
              "      </button>\n",
              "      \n",
              "  <style>\n",
              "    .colab-df-container {\n",
              "      display:flex;\n",
              "      flex-wrap:wrap;\n",
              "      gap: 12px;\n",
              "    }\n",
              "\n",
              "    .colab-df-convert {\n",
              "      background-color: #E8F0FE;\n",
              "      border: none;\n",
              "      border-radius: 50%;\n",
              "      cursor: pointer;\n",
              "      display: none;\n",
              "      fill: #1967D2;\n",
              "      height: 32px;\n",
              "      padding: 0 0 0 0;\n",
              "      width: 32px;\n",
              "    }\n",
              "\n",
              "    .colab-df-convert:hover {\n",
              "      background-color: #E2EBFA;\n",
              "      box-shadow: 0px 1px 2px rgba(60, 64, 67, 0.3), 0px 1px 3px 1px rgba(60, 64, 67, 0.15);\n",
              "      fill: #174EA6;\n",
              "    }\n",
              "\n",
              "    [theme=dark] .colab-df-convert {\n",
              "      background-color: #3B4455;\n",
              "      fill: #D2E3FC;\n",
              "    }\n",
              "\n",
              "    [theme=dark] .colab-df-convert:hover {\n",
              "      background-color: #434B5C;\n",
              "      box-shadow: 0px 1px 3px 1px rgba(0, 0, 0, 0.15);\n",
              "      filter: drop-shadow(0px 1px 2px rgba(0, 0, 0, 0.3));\n",
              "      fill: #FFFFFF;\n",
              "    }\n",
              "  </style>\n",
              "\n",
              "      <script>\n",
              "        const buttonEl =\n",
              "          document.querySelector('#df-ef964c2e-f4d7-469e-8d3b-de619c554b88 button.colab-df-convert');\n",
              "        buttonEl.style.display =\n",
              "          google.colab.kernel.accessAllowed ? 'block' : 'none';\n",
              "\n",
              "        async function convertToInteractive(key) {\n",
              "          const element = document.querySelector('#df-ef964c2e-f4d7-469e-8d3b-de619c554b88');\n",
              "          const dataTable =\n",
              "            await google.colab.kernel.invokeFunction('convertToInteractive',\n",
              "                                                     [key], {});\n",
              "          if (!dataTable) return;\n",
              "\n",
              "          const docLinkHtml = 'Like what you see? Visit the ' +\n",
              "            '<a target=\"_blank\" href=https://colab.research.google.com/notebooks/data_table.ipynb>data table notebook</a>'\n",
              "            + ' to learn more about interactive tables.';\n",
              "          element.innerHTML = '';\n",
              "          dataTable['output_type'] = 'display_data';\n",
              "          await google.colab.output.renderOutput(dataTable, element);\n",
              "          const docLink = document.createElement('div');\n",
              "          docLink.innerHTML = docLinkHtml;\n",
              "          element.appendChild(docLink);\n",
              "        }\n",
              "      </script>\n",
              "    </div>\n",
              "  </div>\n",
              "  "
            ],
            "text/plain": [
              "           Date          Open  ...     Adj Close       Volume\n",
              "2188 2021-12-28  50679.859375  ...  47588.855469  33430376883\n",
              "2189 2021-12-29  47623.871094  ...  46444.710938  30049226299\n",
              "2190 2021-12-30  46490.605469  ...  47178.125000  26686491018\n",
              "2191 2021-12-31  47169.371094  ...  46306.445313  36974172400\n",
              "2192 2022-01-01  46311.746094  ...  47686.812500  24582667004\n",
              "\n",
              "[5 rows x 7 columns]"
            ]
          },
          "metadata": {},
          "execution_count": 67
        }
      ]
    },
    {
      "cell_type": "code",
      "source": [
        "train_data.shape"
      ],
      "metadata": {
        "colab": {
          "base_uri": "https://localhost:8080/"
        },
        "id": "nACti6sbrlaW",
        "outputId": "ab6c84f3-85e9-4814-cb12-ec55ced90ba3"
      },
      "execution_count": 68,
      "outputs": [
        {
          "output_type": "execute_result",
          "data": {
            "text/plain": [
              "(2193, 7)"
            ]
          },
          "metadata": {},
          "execution_count": 68
        }
      ]
    },
    {
      "cell_type": "code",
      "source": [
        "# getting some basic informations about the data\n",
        "train_data.info()"
      ],
      "metadata": {
        "colab": {
          "base_uri": "https://localhost:8080/"
        },
        "id": "4bz_9c-Urrph",
        "outputId": "c512af1a-3069-4c21-9f3a-991b2aeac9d6"
      },
      "execution_count": 69,
      "outputs": [
        {
          "output_type": "stream",
          "name": "stdout",
          "text": [
            "<class 'pandas.core.frame.DataFrame'>\n",
            "RangeIndex: 2193 entries, 0 to 2192\n",
            "Data columns (total 7 columns):\n",
            " #   Column     Non-Null Count  Dtype         \n",
            "---  ------     --------------  -----         \n",
            " 0   Date       2193 non-null   datetime64[ns]\n",
            " 1   Open       2193 non-null   float64       \n",
            " 2   High       2193 non-null   float64       \n",
            " 3   Low        2193 non-null   float64       \n",
            " 4   Close      2193 non-null   float64       \n",
            " 5   Adj Close  2193 non-null   float64       \n",
            " 6   Volume     2193 non-null   int64         \n",
            "dtypes: datetime64[ns](1), float64(5), int64(1)\n",
            "memory usage: 120.1 KB\n"
          ]
        }
      ]
    },
    {
      "cell_type": "code",
      "source": [
        "# checking the number of missing values\n",
        "train_data.isnull().sum()"
      ],
      "metadata": {
        "colab": {
          "base_uri": "https://localhost:8080/"
        },
        "id": "K6Kdep0Wr0l2",
        "outputId": "f8130d9b-1169-4660-c56d-0c7bd1d9cb33"
      },
      "execution_count": 70,
      "outputs": [
        {
          "output_type": "execute_result",
          "data": {
            "text/plain": [
              "Date         0\n",
              "Open         0\n",
              "High         0\n",
              "Low          0\n",
              "Close        0\n",
              "Adj Close    0\n",
              "Volume       0\n",
              "dtype: int64"
            ]
          },
          "metadata": {},
          "execution_count": 70
        }
      ]
    },
    {
      "cell_type": "code",
      "source": [
        "# getting the statistical measures of the data\n",
        "train_data.describe()"
      ],
      "metadata": {
        "colab": {
          "base_uri": "https://localhost:8080/",
          "height": 300
        },
        "id": "oHNgwZJNr9pf",
        "outputId": "5aed1922-d40d-4a87-cf5d-6b92eae1b09e"
      },
      "execution_count": 71,
      "outputs": [
        {
          "output_type": "execute_result",
          "data": {
            "text/html": [
              "\n",
              "  <div id=\"df-55e6200b-56c5-424d-832a-142a8ea981a9\">\n",
              "    <div class=\"colab-df-container\">\n",
              "      <div>\n",
              "<style scoped>\n",
              "    .dataframe tbody tr th:only-of-type {\n",
              "        vertical-align: middle;\n",
              "    }\n",
              "\n",
              "    .dataframe tbody tr th {\n",
              "        vertical-align: top;\n",
              "    }\n",
              "\n",
              "    .dataframe thead th {\n",
              "        text-align: right;\n",
              "    }\n",
              "</style>\n",
              "<table border=\"1\" class=\"dataframe\">\n",
              "  <thead>\n",
              "    <tr style=\"text-align: right;\">\n",
              "      <th></th>\n",
              "      <th>Open</th>\n",
              "      <th>High</th>\n",
              "      <th>Low</th>\n",
              "      <th>Close</th>\n",
              "      <th>Adj Close</th>\n",
              "      <th>Volume</th>\n",
              "    </tr>\n",
              "  </thead>\n",
              "  <tbody>\n",
              "    <tr>\n",
              "      <th>count</th>\n",
              "      <td>2193.000000</td>\n",
              "      <td>2193.000000</td>\n",
              "      <td>2193.000000</td>\n",
              "      <td>2193.000000</td>\n",
              "      <td>2193.000000</td>\n",
              "      <td>2.193000e+03</td>\n",
              "    </tr>\n",
              "    <tr>\n",
              "      <th>mean</th>\n",
              "      <td>13005.792871</td>\n",
              "      <td>13362.996536</td>\n",
              "      <td>12616.080147</td>\n",
              "      <td>13025.164563</td>\n",
              "      <td>13025.164563</td>\n",
              "      <td>1.757591e+10</td>\n",
              "    </tr>\n",
              "    <tr>\n",
              "      <th>std</th>\n",
              "      <td>16479.996404</td>\n",
              "      <td>16935.236723</td>\n",
              "      <td>15960.649705</td>\n",
              "      <td>16489.530523</td>\n",
              "      <td>16489.530523</td>\n",
              "      <td>2.085247e+10</td>\n",
              "    </tr>\n",
              "    <tr>\n",
              "      <th>min</th>\n",
              "      <td>365.072998</td>\n",
              "      <td>374.950012</td>\n",
              "      <td>354.914001</td>\n",
              "      <td>364.330994</td>\n",
              "      <td>364.330994</td>\n",
              "      <td>2.851400e+07</td>\n",
              "    </tr>\n",
              "    <tr>\n",
              "      <th>25%</th>\n",
              "      <td>2577.770020</td>\n",
              "      <td>2682.260010</td>\n",
              "      <td>2510.479980</td>\n",
              "      <td>2589.409912</td>\n",
              "      <td>2589.409912</td>\n",
              "      <td>1.182870e+09</td>\n",
              "    </tr>\n",
              "    <tr>\n",
              "      <th>50%</th>\n",
              "      <td>7397.134277</td>\n",
              "      <td>7535.716797</td>\n",
              "      <td>7233.399414</td>\n",
              "      <td>7397.796875</td>\n",
              "      <td>7397.796875</td>\n",
              "      <td>9.175292e+09</td>\n",
              "    </tr>\n",
              "    <tr>\n",
              "      <th>75%</th>\n",
              "      <td>11354.299805</td>\n",
              "      <td>11570.786133</td>\n",
              "      <td>11018.129883</td>\n",
              "      <td>11358.662109</td>\n",
              "      <td>11358.662109</td>\n",
              "      <td>2.886756e+10</td>\n",
              "    </tr>\n",
              "    <tr>\n",
              "      <th>max</th>\n",
              "      <td>67549.734375</td>\n",
              "      <td>68789.625000</td>\n",
              "      <td>66382.062500</td>\n",
              "      <td>67566.828125</td>\n",
              "      <td>67566.828125</td>\n",
              "      <td>3.509679e+11</td>\n",
              "    </tr>\n",
              "  </tbody>\n",
              "</table>\n",
              "</div>\n",
              "      <button class=\"colab-df-convert\" onclick=\"convertToInteractive('df-55e6200b-56c5-424d-832a-142a8ea981a9')\"\n",
              "              title=\"Convert this dataframe to an interactive table.\"\n",
              "              style=\"display:none;\">\n",
              "        \n",
              "  <svg xmlns=\"http://www.w3.org/2000/svg\" height=\"24px\"viewBox=\"0 0 24 24\"\n",
              "       width=\"24px\">\n",
              "    <path d=\"M0 0h24v24H0V0z\" fill=\"none\"/>\n",
              "    <path d=\"M18.56 5.44l.94 2.06.94-2.06 2.06-.94-2.06-.94-.94-2.06-.94 2.06-2.06.94zm-11 1L8.5 8.5l.94-2.06 2.06-.94-2.06-.94L8.5 2.5l-.94 2.06-2.06.94zm10 10l.94 2.06.94-2.06 2.06-.94-2.06-.94-.94-2.06-.94 2.06-2.06.94z\"/><path d=\"M17.41 7.96l-1.37-1.37c-.4-.4-.92-.59-1.43-.59-.52 0-1.04.2-1.43.59L10.3 9.45l-7.72 7.72c-.78.78-.78 2.05 0 2.83L4 21.41c.39.39.9.59 1.41.59.51 0 1.02-.2 1.41-.59l7.78-7.78 2.81-2.81c.8-.78.8-2.07 0-2.86zM5.41 20L4 18.59l7.72-7.72 1.47 1.35L5.41 20z\"/>\n",
              "  </svg>\n",
              "      </button>\n",
              "      \n",
              "  <style>\n",
              "    .colab-df-container {\n",
              "      display:flex;\n",
              "      flex-wrap:wrap;\n",
              "      gap: 12px;\n",
              "    }\n",
              "\n",
              "    .colab-df-convert {\n",
              "      background-color: #E8F0FE;\n",
              "      border: none;\n",
              "      border-radius: 50%;\n",
              "      cursor: pointer;\n",
              "      display: none;\n",
              "      fill: #1967D2;\n",
              "      height: 32px;\n",
              "      padding: 0 0 0 0;\n",
              "      width: 32px;\n",
              "    }\n",
              "\n",
              "    .colab-df-convert:hover {\n",
              "      background-color: #E2EBFA;\n",
              "      box-shadow: 0px 1px 2px rgba(60, 64, 67, 0.3), 0px 1px 3px 1px rgba(60, 64, 67, 0.15);\n",
              "      fill: #174EA6;\n",
              "    }\n",
              "\n",
              "    [theme=dark] .colab-df-convert {\n",
              "      background-color: #3B4455;\n",
              "      fill: #D2E3FC;\n",
              "    }\n",
              "\n",
              "    [theme=dark] .colab-df-convert:hover {\n",
              "      background-color: #434B5C;\n",
              "      box-shadow: 0px 1px 3px 1px rgba(0, 0, 0, 0.15);\n",
              "      filter: drop-shadow(0px 1px 2px rgba(0, 0, 0, 0.3));\n",
              "      fill: #FFFFFF;\n",
              "    }\n",
              "  </style>\n",
              "\n",
              "      <script>\n",
              "        const buttonEl =\n",
              "          document.querySelector('#df-55e6200b-56c5-424d-832a-142a8ea981a9 button.colab-df-convert');\n",
              "        buttonEl.style.display =\n",
              "          google.colab.kernel.accessAllowed ? 'block' : 'none';\n",
              "\n",
              "        async function convertToInteractive(key) {\n",
              "          const element = document.querySelector('#df-55e6200b-56c5-424d-832a-142a8ea981a9');\n",
              "          const dataTable =\n",
              "            await google.colab.kernel.invokeFunction('convertToInteractive',\n",
              "                                                     [key], {});\n",
              "          if (!dataTable) return;\n",
              "\n",
              "          const docLinkHtml = 'Like what you see? Visit the ' +\n",
              "            '<a target=\"_blank\" href=https://colab.research.google.com/notebooks/data_table.ipynb>data table notebook</a>'\n",
              "            + ' to learn more about interactive tables.';\n",
              "          element.innerHTML = '';\n",
              "          dataTable['output_type'] = 'display_data';\n",
              "          await google.colab.output.renderOutput(dataTable, element);\n",
              "          const docLink = document.createElement('div');\n",
              "          docLink.innerHTML = docLinkHtml;\n",
              "          element.appendChild(docLink);\n",
              "        }\n",
              "      </script>\n",
              "    </div>\n",
              "  </div>\n",
              "  "
            ],
            "text/plain": [
              "               Open          High  ...     Adj Close        Volume\n",
              "count   2193.000000   2193.000000  ...   2193.000000  2.193000e+03\n",
              "mean   13005.792871  13362.996536  ...  13025.164563  1.757591e+10\n",
              "std    16479.996404  16935.236723  ...  16489.530523  2.085247e+10\n",
              "min      365.072998    374.950012  ...    364.330994  2.851400e+07\n",
              "25%     2577.770020   2682.260010  ...   2589.409912  1.182870e+09\n",
              "50%     7397.134277   7535.716797  ...   7397.796875  9.175292e+09\n",
              "75%    11354.299805  11570.786133  ...  11358.662109  2.886756e+10\n",
              "max    67549.734375  68789.625000  ...  67566.828125  3.509679e+11\n",
              "\n",
              "[8 rows x 6 columns]"
            ]
          },
          "metadata": {},
          "execution_count": 71
        }
      ]
    },
    {
      "cell_type": "code",
      "source": [
        "correlation = train_data.corr()"
      ],
      "metadata": {
        "id": "Z-S1HCVHstJG"
      },
      "execution_count": 72,
      "outputs": []
    },
    {
      "cell_type": "code",
      "source": [
        "# constructing a heatmap to understand the correlatiom\n",
        "plt.figure(figsize = (8,8))\n",
        "sns.heatmap(correlation, cbar=True, square=True, fmt='.1f',annot=True, annot_kws={'size':8}, cmap='Blues')"
      ],
      "metadata": {
        "colab": {
          "base_uri": "https://localhost:8080/",
          "height": 489
        },
        "id": "VESa_Mu1s0yP",
        "outputId": "22a6bd69-b36a-4c93-b6d0-ece09b513a9b"
      },
      "execution_count": 73,
      "outputs": [
        {
          "output_type": "execute_result",
          "data": {
            "text/plain": [
              "<matplotlib.axes._subplots.AxesSubplot at 0x7ffb6ae64610>"
            ]
          },
          "metadata": {},
          "execution_count": 73
        },
        {
          "output_type": "display_data",
          "data": {
            "image/png": "[encoded data removed]",
            "text/plain": [
              "<Figure size 576x576 with 2 Axes>"
            ]
          },
          "metadata": {
            "needs_background": "light"
          }
        }
      ]
    },
    {
      "cell_type": "code",
      "source": [
        "#plot Adj Close price\n",
        "train_data.index = train_data['Date'] \n",
        "plt.figure(figsize=(10,6))\n",
        "plt.grid(True)\n",
        "plt.xlabel('Date')\n",
        "plt.ylabel('Close Prices')\n",
        "plt.plot(train_data['Adj Close'])\n",
        "plt.show()"
      ],
      "metadata": {
        "colab": {
          "base_uri": "https://localhost:8080/",
          "height": 388
        },
        "id": "f0JIqfHwtd8W",
        "outputId": "bf6e3941-4c97-41f2-e03d-17eb6b3f22a7"
      },
      "execution_count": 74,
      "outputs": [
        {
          "output_type": "display_data",
          "data": {
            "image/png": "[encoded data removed]",
            "text/plain": [
              "<Figure size 720x432 with 1 Axes>"
            ]
          },
          "metadata": {
            "needs_background": "light"
          }
        }
      ]
    },
    {
      "cell_type": "code",
      "source": [
        "#distribution of Adj close\n",
        "sns.distplot(train_data['Adj Close'], color = \"red\")"
      ],
      "metadata": {
        "colab": {
          "base_uri": "https://localhost:8080/",
          "height": 351
        },
        "id": "W2S-jXP2v5U8",
        "outputId": "89bc3886-9b2d-4038-cbc3-0088ede671df"
      },
      "execution_count": 75,
      "outputs": [
        {
          "output_type": "stream",
          "name": "stderr",
          "text": [
            "/usr/local/lib/python3.7/dist-packages/seaborn/distributions.py:2619: FutureWarning: `distplot` is a deprecated function and will be removed in a future version. Please adapt your code to use either `displot` (a figure-level function with similar flexibility) or `histplot` (an axes-level function for histograms).\n",
            "  warnings.warn(msg, FutureWarning)\n"
          ]
        },
        {
          "output_type": "execute_result",
          "data": {
            "text/plain": [
              "<matplotlib.axes._subplots.AxesSubplot at 0x7ffb6ad26990>"
            ]
          },
          "metadata": {},
          "execution_count": 75
        },
        {
          "output_type": "display_data",
          "data": {
            "image/png": "[encoded data removed]",
            "text/plain": [
              "<Figure size 432x288 with 1 Axes>"
            ]
          },
          "metadata": {
            "needs_background": "light"
          }
        }
      ]
    },
    {
      "cell_type": "code",
      "source": [
        "#Finding the duration of dataset\n",
        "print(\"Starting date: \",train_data.iloc[0][0])\n",
        "print(\"Ending date: \", train_data.iloc[-1][0])\n",
        "print(\"Duration: \", train_data.iloc[-1][0]-train_data.iloc[0][0])"
      ],
      "metadata": {
        "colab": {
          "base_uri": "https://localhost:8080/"
        },
        "id": "0aogjsWDxGI3",
        "outputId": "bcc3d148-7e74-4145-c710-064263050095"
      },
      "execution_count": 76,
      "outputs": [
        {
          "output_type": "stream",
          "name": "stdout",
          "text": [
            "Starting date:  2016-01-01 00:00:00\n",
            "Ending date:  2022-01-01 00:00:00\n",
            "Duration:  2192 days 00:00:00\n"
          ]
        }
      ]
    },
    {
      "cell_type": "markdown",
      "source": [
        "Visualization"
      ],
      "metadata": {
        "id": "u-vAwW6kqx7w"
      }
    },
    {
      "cell_type": "code",
      "source": [
        "Yr_2020 = train_data[(train_data['Date'] >= '2020-01-01') & (train_data['Date'] < '2021-01-01')]\n",
        "Adj_close_2020= Yr_2020.groupby(Yr_2020['Date'].dt.strftime('%B'))[['Adj Close']].mean()\n",
        "new_order = ['January', 'February', 'March', 'April', 'May', 'June', 'July', 'August', 'September', 'October', 'November', 'December']\n",
        "Adj_close_2020 = Adj_close_2020.reindex(new_order,axis=0)\n",
        "Adj_close_2020"
      ],
      "metadata": {
        "colab": {
          "base_uri": "https://localhost:8080/",
          "height": 457
        },
        "id": "0cO0J04u1mVW",
        "outputId": "c3f4343c-196f-460a-bd74-8a37544fedfb"
      },
      "execution_count": 77,
      "outputs": [
        {
          "output_type": "execute_result",
          "data": {
            "text/html": [
              "\n",
              "  <div id=\"df-38a5b570-068f-44d5-bac9-81e1aaed57bc\">\n",
              "    <div class=\"colab-df-container\">\n",
              "      <div>\n",
              "<style scoped>\n",
              "    .dataframe tbody tr th:only-of-type {\n",
              "        vertical-align: middle;\n",
              "    }\n",
              "\n",
              "    .dataframe tbody tr th {\n",
              "        vertical-align: top;\n",
              "    }\n",
              "\n",
              "    .dataframe thead th {\n",
              "        text-align: right;\n",
              "    }\n",
              "</style>\n",
              "<table border=\"1\" class=\"dataframe\">\n",
              "  <thead>\n",
              "    <tr style=\"text-align: right;\">\n",
              "      <th></th>\n",
              "      <th>Adj Close</th>\n",
              "    </tr>\n",
              "    <tr>\n",
              "      <th>Date</th>\n",
              "      <th></th>\n",
              "    </tr>\n",
              "  </thead>\n",
              "  <tbody>\n",
              "    <tr>\n",
              "      <th>January</th>\n",
              "      <td>8389.270476</td>\n",
              "    </tr>\n",
              "    <tr>\n",
              "      <th>February</th>\n",
              "      <td>9630.722185</td>\n",
              "    </tr>\n",
              "    <tr>\n",
              "      <th>March</th>\n",
              "      <td>6871.016113</td>\n",
              "    </tr>\n",
              "    <tr>\n",
              "      <th>April</th>\n",
              "      <td>7224.477328</td>\n",
              "    </tr>\n",
              "    <tr>\n",
              "      <th>May</th>\n",
              "      <td>9263.151745</td>\n",
              "    </tr>\n",
              "    <tr>\n",
              "      <th>June</th>\n",
              "      <td>9489.227214</td>\n",
              "    </tr>\n",
              "    <tr>\n",
              "      <th>July</th>\n",
              "      <td>9589.899729</td>\n",
              "    </tr>\n",
              "    <tr>\n",
              "      <th>August</th>\n",
              "      <td>11652.394185</td>\n",
              "    </tr>\n",
              "    <tr>\n",
              "      <th>September</th>\n",
              "      <td>10660.276856</td>\n",
              "    </tr>\n",
              "    <tr>\n",
              "      <th>October</th>\n",
              "      <td>11886.978201</td>\n",
              "    </tr>\n",
              "    <tr>\n",
              "      <th>November</th>\n",
              "      <td>16645.757422</td>\n",
              "    </tr>\n",
              "    <tr>\n",
              "      <th>December</th>\n",
              "      <td>21983.137097</td>\n",
              "    </tr>\n",
              "  </tbody>\n",
              "</table>\n",
              "</div>\n",
              "      <button class=\"colab-df-convert\" onclick=\"convertToInteractive('df-38a5b570-068f-44d5-bac9-81e1aaed57bc')\"\n",
              "              title=\"Convert this dataframe to an interactive table.\"\n",
              "              style=\"display:none;\">\n",
              "        \n",
              "  <svg xmlns=\"http://www.w3.org/2000/svg\" height=\"24px\"viewBox=\"0 0 24 24\"\n",
              "       width=\"24px\">\n",
              "    <path d=\"M0 0h24v24H0V0z\" fill=\"none\"/>\n",
              "    <path d=\"M18.56 5.44l.94 2.06.94-2.06 2.06-.94-2.06-.94-.94-2.06-.94 2.06-2.06.94zm-11 1L8.5 8.5l.94-2.06 2.06-.94-2.06-.94L8.5 2.5l-.94 2.06-2.06.94zm10 10l.94 2.06.94-2.06 2.06-.94-2.06-.94-.94-2.06-.94 2.06-2.06.94z\"/><path d=\"M17.41 7.96l-1.37-1.37c-.4-.4-.92-.59-1.43-.59-.52 0-1.04.2-1.43.59L10.3 9.45l-7.72 7.72c-.78.78-.78 2.05 0 2.83L4 21.41c.39.39.9.59 1.41.59.51 0 1.02-.2 1.41-.59l7.78-7.78 2.81-2.81c.8-.78.8-2.07 0-2.86zM5.41 20L4 18.59l7.72-7.72 1.47 1.35L5.41 20z\"/>\n",
              "  </svg>\n",
              "      </button>\n",
              "      \n",
              "  <style>\n",
              "    .colab-df-container {\n",
              "      display:flex;\n",
              "      flex-wrap:wrap;\n",
              "      gap: 12px;\n",
              "    }\n",
              "\n",
              "    .colab-df-convert {\n",
              "      background-color: #E8F0FE;\n",
              "      border: none;\n",
              "      border-radius: 50%;\n",
              "      cursor: pointer;\n",
              "      display: none;\n",
              "      fill: #1967D2;\n",
              "      height: 32px;\n",
              "      padding: 0 0 0 0;\n",
              "      width: 32px;\n",
              "    }\n",
              "\n",
              "    .colab-df-convert:hover {\n",
              "      background-color: #E2EBFA;\n",
              "      box-shadow: 0px 1px 2px rgba(60, 64, 67, 0.3), 0px 1px 3px 1px rgba(60, 64, 67, 0.15);\n",
              "      fill: #174EA6;\n",
              "    }\n",
              "\n",
              "    [theme=dark] .colab-df-convert {\n",
              "      background-color: #3B4455;\n",
              "      fill: #D2E3FC;\n",
              "    }\n",
              "\n",
              "    [theme=dark] .colab-df-convert:hover {\n",
              "      background-color: #434B5C;\n",
              "      box-shadow: 0px 1px 3px 1px rgba(0, 0, 0, 0.15);\n",
              "      filter: drop-shadow(0px 1px 2px rgba(0, 0, 0, 0.3));\n",
              "      fill: #FFFFFF;\n",
              "    }\n",
              "  </style>\n",
              "\n",
              "      <script>\n",
              "        const buttonEl =\n",
              "          document.querySelector('#df-38a5b570-068f-44d5-bac9-81e1aaed57bc button.colab-df-convert');\n",
              "        buttonEl.style.display =\n",
              "          google.colab.kernel.accessAllowed ? 'block' : 'none';\n",
              "\n",
              "        async function convertToInteractive(key) {\n",
              "          const element = document.querySelector('#df-38a5b570-068f-44d5-bac9-81e1aaed57bc');\n",
              "          const dataTable =\n",
              "            await google.colab.kernel.invokeFunction('convertToInteractive',\n",
              "                                                     [key], {});\n",
              "          if (!dataTable) return;\n",
              "\n",
              "          const docLinkHtml = 'Like what you see? Visit the ' +\n",
              "            '<a target=\"_blank\" href=https://colab.research.google.com/notebooks/data_table.ipynb>data table notebook</a>'\n",
              "            + ' to learn more about interactive tables.';\n",
              "          element.innerHTML = '';\n",
              "          dataTable['output_type'] = 'display_data';\n",
              "          await google.colab.output.renderOutput(dataTable, element);\n",
              "          const docLink = document.createElement('div');\n",
              "          docLink.innerHTML = docLinkHtml;\n",
              "          element.appendChild(docLink);\n",
              "        }\n",
              "      </script>\n",
              "    </div>\n",
              "  </div>\n",
              "  "
            ],
            "text/plain": [
              "              Adj Close\n",
              "Date                   \n",
              "January     8389.270476\n",
              "February    9630.722185\n",
              "March       6871.016113\n",
              "April       7224.477328\n",
              "May         9263.151745\n",
              "June        9489.227214\n",
              "July        9589.899729\n",
              "August     11652.394185\n",
              "September  10660.276856\n",
              "October    11886.978201\n",
              "November   16645.757422\n",
              "December   21983.137097"
            ]
          },
          "metadata": {},
          "execution_count": 77
        }
      ]
    },
    {
      "cell_type": "code",
      "source": [
        "#stock analysis 2020\n",
        "plt.figure(figsize=(10,6))\n",
        "plt.grid(True)\n",
        "plt.xlabel('Month')\n",
        "plt.ylabel('Stock price')\n",
        "plt.plot(Yr_2020['Adj Close'])\n",
        "plt.show()"
      ],
      "metadata": {
        "colab": {
          "base_uri": "https://localhost:8080/",
          "height": 390
        },
        "id": "ojhMkg2IuNAP",
        "outputId": "dc48b7fb-a5c6-4658-e3ef-94ccf4ce26b7"
      },
      "execution_count": 78,
      "outputs": [
        {
          "output_type": "display_data",
          "data": {
            "image/png": "[encoded data removed]",
            "text/plain": [
              "<Figure size 720x432 with 1 Axes>"
            ]
          },
          "metadata": {
            "needs_background": "light"
          }
        }
      ]
    },
    {
      "cell_type": "code",
      "source": [
        "open_close_2020= Yr_2020.groupby(Yr_2020['Date'].dt.strftime('%B'))[['Open','Close']].mean()\n",
        "#new_order = ['January', 'February', 'March', 'April', 'May', 'June', 'July', 'August', 'September', 'October', 'November', 'December']\n",
        "open_close_2020 = open_close_2020.reindex(new_order,axis=0)\n",
        "open_close_2020"
      ],
      "metadata": {
        "colab": {
          "base_uri": "https://localhost:8080/",
          "height": 457
        },
        "id": "fo61FMHgtzUr",
        "outputId": "d1ad31ed-24e7-4270-c87b-eb6559cdacb0"
      },
      "execution_count": 79,
      "outputs": [
        {
          "output_type": "execute_result",
          "data": {
            "text/html": [
              "\n",
              "  <div id=\"df-109eb660-9139-4308-8768-148c035a7ce6\">\n",
              "    <div class=\"colab-df-container\">\n",
              "      <div>\n",
              "<style scoped>\n",
              "    .dataframe tbody tr th:only-of-type {\n",
              "        vertical-align: middle;\n",
              "    }\n",
              "\n",
              "    .dataframe tbody tr th {\n",
              "        vertical-align: top;\n",
              "    }\n",
              "\n",
              "    .dataframe thead th {\n",
              "        text-align: right;\n",
              "    }\n",
              "</style>\n",
              "<table border=\"1\" class=\"dataframe\">\n",
              "  <thead>\n",
              "    <tr style=\"text-align: right;\">\n",
              "      <th></th>\n",
              "      <th>Open</th>\n",
              "      <th>Close</th>\n",
              "    </tr>\n",
              "    <tr>\n",
              "      <th>Date</th>\n",
              "      <th></th>\n",
              "      <th></th>\n",
              "    </tr>\n",
              "  </thead>\n",
              "  <tbody>\n",
              "    <tr>\n",
              "      <th>January</th>\n",
              "      <td>8318.949597</td>\n",
              "      <td>8389.270476</td>\n",
              "    </tr>\n",
              "    <tr>\n",
              "      <th>February</th>\n",
              "      <td>9656.215113</td>\n",
              "      <td>9630.722185</td>\n",
              "    </tr>\n",
              "    <tr>\n",
              "      <th>March</th>\n",
              "      <td>6943.507009</td>\n",
              "      <td>6871.016113</td>\n",
              "    </tr>\n",
              "    <tr>\n",
              "      <th>April</th>\n",
              "      <td>7150.611328</td>\n",
              "      <td>7224.477328</td>\n",
              "    </tr>\n",
              "    <tr>\n",
              "      <th>May</th>\n",
              "      <td>9237.761530</td>\n",
              "      <td>9263.151745</td>\n",
              "    </tr>\n",
              "    <tr>\n",
              "      <th>June</th>\n",
              "      <td>9499.797005</td>\n",
              "      <td>9489.227214</td>\n",
              "    </tr>\n",
              "    <tr>\n",
              "      <th>July</th>\n",
              "      <td>9519.383852</td>\n",
              "      <td>9589.899729</td>\n",
              "    </tr>\n",
              "    <tr>\n",
              "      <th>August</th>\n",
              "      <td>11639.097215</td>\n",
              "      <td>11652.394185</td>\n",
              "    </tr>\n",
              "    <tr>\n",
              "      <th>September</th>\n",
              "      <td>10689.700163</td>\n",
              "      <td>10660.276856</td>\n",
              "    </tr>\n",
              "    <tr>\n",
              "      <th>October</th>\n",
              "      <td>11791.307491</td>\n",
              "      <td>11886.978201</td>\n",
              "    </tr>\n",
              "    <tr>\n",
              "      <th>November</th>\n",
              "      <td>16450.121647</td>\n",
              "      <td>16645.757422</td>\n",
              "    </tr>\n",
              "    <tr>\n",
              "      <th>December</th>\n",
              "      <td>21680.540827</td>\n",
              "      <td>21983.137097</td>\n",
              "    </tr>\n",
              "  </tbody>\n",
              "</table>\n",
              "</div>\n",
              "      <button class=\"colab-df-convert\" onclick=\"convertToInteractive('df-109eb660-9139-4308-8768-148c035a7ce6')\"\n",
              "              title=\"Convert this dataframe to an interactive table.\"\n",
              "              style=\"display:none;\">\n",
              "        \n",
              "  <svg xmlns=\"http://www.w3.org/2000/svg\" height=\"24px\"viewBox=\"0 0 24 24\"\n",
              "       width=\"24px\">\n",
              "    <path d=\"M0 0h24v24H0V0z\" fill=\"none\"/>\n",
              "    <path d=\"M18.56 5.44l.94 2.06.94-2.06 2.06-.94-2.06-.94-.94-2.06-.94 2.06-2.06.94zm-11 1L8.5 8.5l.94-2.06 2.06-.94-2.06-.94L8.5 2.5l-.94 2.06-2.06.94zm10 10l.94 2.06.94-2.06 2.06-.94-2.06-.94-.94-2.06-.94 2.06-2.06.94z\"/><path d=\"M17.41 7.96l-1.37-1.37c-.4-.4-.92-.59-1.43-.59-.52 0-1.04.2-1.43.59L10.3 9.45l-7.72 7.72c-.78.78-.78 2.05 0 2.83L4 21.41c.39.39.9.59 1.41.59.51 0 1.02-.2 1.41-.59l7.78-7.78 2.81-2.81c.8-.78.8-2.07 0-2.86zM5.41 20L4 18.59l7.72-7.72 1.47 1.35L5.41 20z\"/>\n",
              "  </svg>\n",
              "      </button>\n",
              "      \n",
              "  <style>\n",
              "    .colab-df-container {\n",
              "      display:flex;\n",
              "      flex-wrap:wrap;\n",
              "      gap: 12px;\n",
              "    }\n",
              "\n",
              "    .colab-df-convert {\n",
              "      background-color: #E8F0FE;\n",
              "      border: none;\n",
              "      border-radius: 50%;\n",
              "      cursor: pointer;\n",
              "      display: none;\n",
              "      fill: #1967D2;\n",
              "      height: 32px;\n",
              "      padding: 0 0 0 0;\n",
              "      width: 32px;\n",
              "    }\n",
              "\n",
              "    .colab-df-convert:hover {\n",
              "      background-color: #E2EBFA;\n",
              "      box-shadow: 0px 1px 2px rgba(60, 64, 67, 0.3), 0px 1px 3px 1px rgba(60, 64, 67, 0.15);\n",
              "      fill: #174EA6;\n",
              "    }\n",
              "\n",
              "    [theme=dark] .colab-df-convert {\n",
              "      background-color: #3B4455;\n",
              "      fill: #D2E3FC;\n",
              "    }\n",
              "\n",
              "    [theme=dark] .colab-df-convert:hover {\n",
              "      background-color: #434B5C;\n",
              "      box-shadow: 0px 1px 3px 1px rgba(0, 0, 0, 0.15);\n",
              "      filter: drop-shadow(0px 1px 2px rgba(0, 0, 0, 0.3));\n",
              "      fill: #FFFFFF;\n",
              "    }\n",
              "  </style>\n",
              "\n",
              "      <script>\n",
              "        const buttonEl =\n",
              "          document.querySelector('#df-109eb660-9139-4308-8768-148c035a7ce6 button.colab-df-convert');\n",
              "        buttonEl.style.display =\n",
              "          google.colab.kernel.accessAllowed ? 'block' : 'none';\n",
              "\n",
              "        async function convertToInteractive(key) {\n",
              "          const element = document.querySelector('#df-109eb660-9139-4308-8768-148c035a7ce6');\n",
              "          const dataTable =\n",
              "            await google.colab.kernel.invokeFunction('convertToInteractive',\n",
              "                                                     [key], {});\n",
              "          if (!dataTable) return;\n",
              "\n",
              "          const docLinkHtml = 'Like what you see? Visit the ' +\n",
              "            '<a target=\"_blank\" href=https://colab.research.google.com/notebooks/data_table.ipynb>data table notebook</a>'\n",
              "            + ' to learn more about interactive tables.';\n",
              "          element.innerHTML = '';\n",
              "          dataTable['output_type'] = 'display_data';\n",
              "          await google.colab.output.renderOutput(dataTable, element);\n",
              "          const docLink = document.createElement('div');\n",
              "          docLink.innerHTML = docLinkHtml;\n",
              "          element.appendChild(docLink);\n",
              "        }\n",
              "      </script>\n",
              "    </div>\n",
              "  </div>\n",
              "  "
            ],
            "text/plain": [
              "                   Open         Close\n",
              "Date                                 \n",
              "January     8318.949597   8389.270476\n",
              "February    9656.215113   9630.722185\n",
              "March       6943.507009   6871.016113\n",
              "April       7150.611328   7224.477328\n",
              "May         9237.761530   9263.151745\n",
              "June        9499.797005   9489.227214\n",
              "July        9519.383852   9589.899729\n",
              "August     11639.097215  11652.394185\n",
              "September  10689.700163  10660.276856\n",
              "October    11791.307491  11886.978201\n",
              "November   16450.121647  16645.757422\n",
              "December   21680.540827  21983.137097"
            ]
          },
          "metadata": {},
          "execution_count": 79
        }
      ]
    },
    {
      "cell_type": "code",
      "source": [
        "# Monthly Avg. open & close price 2020\n",
        "fig, ax = plt.subplots(figsize=(10,5))\n",
        "x = np.arange(len(open_close_2020))\n",
        "width = 0.4\n",
        "plt.bar(x-0.2, open_close_2020['Open'], width, color='green', label='Stock Open Price')\n",
        "plt.bar(x+0.2, open_close_2020['Close'],width, color='blue', label='Stock Close Price')\n",
        "plt.title('Open & Close price 2020', fontsize=25)\n",
        "plt.xlabel('Month',fontsize=20)\n",
        "plt.xticks(x, open_close_2020.index, fontsize=17,rotation = 'vertical')\n",
        "plt.ylabel('Stock Price', fontsize=20)\n",
        "plt.yticks(fontsize=17)\n",
        "ax.tick_params(bottom=False, left=True)\n",
        "plt.legend(frameon=False, fontsize=15)\n",
        "plt.show()"
      ],
      "metadata": {
        "colab": {
          "base_uri": "https://localhost:8080/",
          "height": 451
        },
        "id": "bxdFYax9lSqM",
        "outputId": "b5e5f3f6-a41b-4c73-fc9e-a1dc10aac67b"
      },
      "execution_count": 80,
      "outputs": [
        {
          "output_type": "display_data",
          "data": {
            "image/png": "[encoded data removed]",
            "text/plain": [
              "<Figure size 720x360 with 1 Axes>"
            ]
          },
          "metadata": {
            "needs_background": "light"
          }
        }
      ]
    },
    {
      "cell_type": "code",
      "source": [
        "Yr_2021 = train_data[(train_data['Date'] >= '2021-01-01') & (train_data['Date'] < '2022-01-01')]\n",
        "Adj_close_2021= Yr_2021.groupby(Yr_2021['Date'].dt.strftime('%B'))[['Adj Close']].mean()\n",
        "#new_order = ['January', 'February', 'March', 'April', 'May', 'June', 'July', 'August', 'September', 'October', 'November', 'December']\n",
        "Adj_close_2021 = Adj_close_2021.reindex(new_order,axis=0)\n",
        "Adj_close_2021"
      ],
      "metadata": {
        "colab": {
          "base_uri": "https://localhost:8080/",
          "height": 457
        },
        "id": "hyEqGBcOo60B",
        "outputId": "b51ac120-089a-4558-99c8-65b56c653114"
      },
      "execution_count": 81,
      "outputs": [
        {
          "output_type": "execute_result",
          "data": {
            "text/html": [
              "\n",
              "  <div id=\"df-3dce4e6c-c93a-4442-b7de-1de9fb6db812\">\n",
              "    <div class=\"colab-df-container\">\n",
              "      <div>\n",
              "<style scoped>\n",
              "    .dataframe tbody tr th:only-of-type {\n",
              "        vertical-align: middle;\n",
              "    }\n",
              "\n",
              "    .dataframe tbody tr th {\n",
              "        vertical-align: top;\n",
              "    }\n",
              "\n",
              "    .dataframe thead th {\n",
              "        text-align: right;\n",
              "    }\n",
              "</style>\n",
              "<table border=\"1\" class=\"dataframe\">\n",
              "  <thead>\n",
              "    <tr style=\"text-align: right;\">\n",
              "      <th></th>\n",
              "      <th>Adj Close</th>\n",
              "    </tr>\n",
              "    <tr>\n",
              "      <th>Date</th>\n",
              "      <th></th>\n",
              "    </tr>\n",
              "  </thead>\n",
              "  <tbody>\n",
              "    <tr>\n",
              "      <th>January</th>\n",
              "      <td>34761.649950</td>\n",
              "    </tr>\n",
              "    <tr>\n",
              "      <th>February</th>\n",
              "      <td>46306.798968</td>\n",
              "    </tr>\n",
              "    <tr>\n",
              "      <th>March</th>\n",
              "      <td>54998.008695</td>\n",
              "    </tr>\n",
              "    <tr>\n",
              "      <th>April</th>\n",
              "      <td>57206.720052</td>\n",
              "    </tr>\n",
              "    <tr>\n",
              "      <th>May</th>\n",
              "      <td>46443.286668</td>\n",
              "    </tr>\n",
              "    <tr>\n",
              "      <th>June</th>\n",
              "      <td>35845.154688</td>\n",
              "    </tr>\n",
              "    <tr>\n",
              "      <th>July</th>\n",
              "      <td>34444.973790</td>\n",
              "    </tr>\n",
              "    <tr>\n",
              "      <th>August</th>\n",
              "      <td>45709.022682</td>\n",
              "    </tr>\n",
              "    <tr>\n",
              "      <th>September</th>\n",
              "      <td>45939.771484</td>\n",
              "    </tr>\n",
              "    <tr>\n",
              "      <th>October</th>\n",
              "      <td>57911.970514</td>\n",
              "    </tr>\n",
              "    <tr>\n",
              "      <th>November</th>\n",
              "      <td>60621.488802</td>\n",
              "    </tr>\n",
              "    <tr>\n",
              "      <th>December</th>\n",
              "      <td>49263.209174</td>\n",
              "    </tr>\n",
              "  </tbody>\n",
              "</table>\n",
              "</div>\n",
              "      <button class=\"colab-df-convert\" onclick=\"convertToInteractive('df-3dce4e6c-c93a-4442-b7de-1de9fb6db812')\"\n",
              "              title=\"Convert this dataframe to an interactive table.\"\n",
              "              style=\"display:none;\">\n",
              "        \n",
              "  <svg xmlns=\"http://www.w3.org/2000/svg\" height=\"24px\"viewBox=\"0 0 24 24\"\n",
              "       width=\"24px\">\n",
              "    <path d=\"M0 0h24v24H0V0z\" fill=\"none\"/>\n",
              "    <path d=\"M18.56 5.44l.94 2.06.94-2.06 2.06-.94-2.06-.94-.94-2.06-.94 2.06-2.06.94zm-11 1L8.5 8.5l.94-2.06 2.06-.94-2.06-.94L8.5 2.5l-.94 2.06-2.06.94zm10 10l.94 2.06.94-2.06 2.06-.94-2.06-.94-.94-2.06-.94 2.06-2.06.94z\"/><path d=\"M17.41 7.96l-1.37-1.37c-.4-.4-.92-.59-1.43-.59-.52 0-1.04.2-1.43.59L10.3 9.45l-7.72 7.72c-.78.78-.78 2.05 0 2.83L4 21.41c.39.39.9.59 1.41.59.51 0 1.02-.2 1.41-.59l7.78-7.78 2.81-2.81c.8-.78.8-2.07 0-2.86zM5.41 20L4 18.59l7.72-7.72 1.47 1.35L5.41 20z\"/>\n",
              "  </svg>\n",
              "      </button>\n",
              "      \n",
              "  <style>\n",
              "    .colab-df-container {\n",
              "      display:flex;\n",
              "      flex-wrap:wrap;\n",
              "      gap: 12px;\n",
              "    }\n",
              "\n",
              "    .colab-df-convert {\n",
              "      background-color: #E8F0FE;\n",
              "      border: none;\n",
              "      border-radius: 50%;\n",
              "      cursor: pointer;\n",
              "      display: none;\n",
              "      fill: #1967D2;\n",
              "      height: 32px;\n",
              "      padding: 0 0 0 0;\n",
              "      width: 32px;\n",
              "    }\n",
              "\n",
              "    .colab-df-convert:hover {\n",
              "      background-color: #E2EBFA;\n",
              "      box-shadow: 0px 1px 2px rgba(60, 64, 67, 0.3), 0px 1px 3px 1px rgba(60, 64, 67, 0.15);\n",
              "      fill: #174EA6;\n",
              "    }\n",
              "\n",
              "    [theme=dark] .colab-df-convert {\n",
              "      background-color: #3B4455;\n",
              "      fill: #D2E3FC;\n",
              "    }\n",
              "\n",
              "    [theme=dark] .colab-df-convert:hover {\n",
              "      background-color: #434B5C;\n",
              "      box-shadow: 0px 1px 3px 1px rgba(0, 0, 0, 0.15);\n",
              "      filter: drop-shadow(0px 1px 2px rgba(0, 0, 0, 0.3));\n",
              "      fill: #FFFFFF;\n",
              "    }\n",
              "  </style>\n",
              "\n",
              "      <script>\n",
              "        const buttonEl =\n",
              "          document.querySelector('#df-3dce4e6c-c93a-4442-b7de-1de9fb6db812 button.colab-df-convert');\n",
              "        buttonEl.style.display =\n",
              "          google.colab.kernel.accessAllowed ? 'block' : 'none';\n",
              "\n",
              "        async function convertToInteractive(key) {\n",
              "          const element = document.querySelector('#df-3dce4e6c-c93a-4442-b7de-1de9fb6db812');\n",
              "          const dataTable =\n",
              "            await google.colab.kernel.invokeFunction('convertToInteractive',\n",
              "                                                     [key], {});\n",
              "          if (!dataTable) return;\n",
              "\n",
              "          const docLinkHtml = 'Like what you see? Visit the ' +\n",
              "            '<a target=\"_blank\" href=https://colab.research.google.com/notebooks/data_table.ipynb>data table notebook</a>'\n",
              "            + ' to learn more about interactive tables.';\n",
              "          element.innerHTML = '';\n",
              "          dataTable['output_type'] = 'display_data';\n",
              "          await google.colab.output.renderOutput(dataTable, element);\n",
              "          const docLink = document.createElement('div');\n",
              "          docLink.innerHTML = docLinkHtml;\n",
              "          element.appendChild(docLink);\n",
              "        }\n",
              "      </script>\n",
              "    </div>\n",
              "  </div>\n",
              "  "
            ],
            "text/plain": [
              "              Adj Close\n",
              "Date                   \n",
              "January    34761.649950\n",
              "February   46306.798968\n",
              "March      54998.008695\n",
              "April      57206.720052\n",
              "May        46443.286668\n",
              "June       35845.154688\n",
              "July       34444.973790\n",
              "August     45709.022682\n",
              "September  45939.771484\n",
              "October    57911.970514\n",
              "November   60621.488802\n",
              "December   49263.209174"
            ]
          },
          "metadata": {},
          "execution_count": 81
        }
      ]
    },
    {
      "cell_type": "code",
      "source": [
        "#stock analysis 2021\n",
        "plt.figure(figsize=(10,6))\n",
        "plt.grid(True)\n",
        "plt.xlabel('Month')\n",
        "plt.ylabel('Stock price')\n",
        "plt.plot(Yr_2021['Adj Close'])\n",
        "plt.show()"
      ],
      "metadata": {
        "colab": {
          "base_uri": "https://localhost:8080/",
          "height": 388
        },
        "id": "bHzUk68tvNa1",
        "outputId": "f04796f3-9f29-4d3b-ce84-7cf6150b1d0a"
      },
      "execution_count": 82,
      "outputs": [
        {
          "output_type": "display_data",
          "data": {
            "image/png": "[encoded data removed]",
            "text/plain": [
              "<Figure size 720x432 with 1 Axes>"
            ]
          },
          "metadata": {
            "needs_background": "light"
          }
        }
      ]
    },
    {
      "cell_type": "code",
      "source": [
        "open_close_2021= Yr_2021.groupby(Yr_2021['Date'].dt.strftime('%B'))[['Open','Close']].mean()\n",
        "#new_order = ['January', 'February', 'March', 'April', 'May', 'June', 'July', 'August', 'September', 'October', 'November', 'December']\n",
        "open_close_2021 = open_close_2021.reindex(new_order,axis=0)\n",
        "open_close_2021"
      ],
      "metadata": {
        "colab": {
          "base_uri": "https://localhost:8080/",
          "height": 457
        },
        "id": "8EbRm2Vtppg5",
        "outputId": "bdc84c62-e232-4529-ccca-03fa9da7bc2c"
      },
      "execution_count": 83,
      "outputs": [
        {
          "output_type": "execute_result",
          "data": {
            "text/html": [
              "\n",
              "  <div id=\"df-8f7b8809-4ac8-44fb-be15-4a56b6ef1177\">\n",
              "    <div class=\"colab-df-container\">\n",
              "      <div>\n",
              "<style scoped>\n",
              "    .dataframe tbody tr th:only-of-type {\n",
              "        vertical-align: middle;\n",
              "    }\n",
              "\n",
              "    .dataframe tbody tr th {\n",
              "        vertical-align: top;\n",
              "    }\n",
              "\n",
              "    .dataframe thead th {\n",
              "        text-align: right;\n",
              "    }\n",
              "</style>\n",
              "<table border=\"1\" class=\"dataframe\">\n",
              "  <thead>\n",
              "    <tr style=\"text-align: right;\">\n",
              "      <th></th>\n",
              "      <th>Open</th>\n",
              "      <th>Close</th>\n",
              "    </tr>\n",
              "    <tr>\n",
              "      <th>Date</th>\n",
              "      <th></th>\n",
              "      <th></th>\n",
              "    </tr>\n",
              "  </thead>\n",
              "  <tbody>\n",
              "    <tr>\n",
              "      <th>January</th>\n",
              "      <td>34652.961694</td>\n",
              "      <td>34761.649950</td>\n",
              "    </tr>\n",
              "    <tr>\n",
              "      <th>February</th>\n",
              "      <td>45874.967216</td>\n",
              "      <td>46306.798968</td>\n",
              "    </tr>\n",
              "    <tr>\n",
              "      <th>March</th>\n",
              "      <td>54544.678176</td>\n",
              "      <td>54998.008695</td>\n",
              "    </tr>\n",
              "    <tr>\n",
              "      <th>April</th>\n",
              "      <td>57251.256250</td>\n",
              "      <td>57206.720052</td>\n",
              "    </tr>\n",
              "    <tr>\n",
              "      <th>May</th>\n",
              "      <td>47105.828503</td>\n",
              "      <td>46443.286668</td>\n",
              "    </tr>\n",
              "    <tr>\n",
              "      <th>June</th>\n",
              "      <td>35920.546940</td>\n",
              "      <td>35845.154688</td>\n",
              "    </tr>\n",
              "    <tr>\n",
              "      <th>July</th>\n",
              "      <td>34234.212450</td>\n",
              "      <td>34444.973790</td>\n",
              "    </tr>\n",
              "    <tr>\n",
              "      <th>August</th>\n",
              "      <td>45516.119834</td>\n",
              "      <td>45709.022682</td>\n",
              "    </tr>\n",
              "    <tr>\n",
              "      <th>September</th>\n",
              "      <td>46041.859375</td>\n",
              "      <td>45939.771484</td>\n",
              "    </tr>\n",
              "    <tr>\n",
              "      <th>October</th>\n",
              "      <td>57344.743952</td>\n",
              "      <td>57911.970514</td>\n",
              "    </tr>\n",
              "    <tr>\n",
              "      <th>November</th>\n",
              "      <td>60857.520313</td>\n",
              "      <td>60621.488802</td>\n",
              "    </tr>\n",
              "    <tr>\n",
              "      <th>December</th>\n",
              "      <td>49670.411794</td>\n",
              "      <td>49263.209174</td>\n",
              "    </tr>\n",
              "  </tbody>\n",
              "</table>\n",
              "</div>\n",
              "      <button class=\"colab-df-convert\" onclick=\"convertToInteractive('df-8f7b8809-4ac8-44fb-be15-4a56b6ef1177')\"\n",
              "              title=\"Convert this dataframe to an interactive table.\"\n",
              "              style=\"display:none;\">\n",
              "        \n",
              "  <svg xmlns=\"http://www.w3.org/2000/svg\" height=\"24px\"viewBox=\"0 0 24 24\"\n",
              "       width=\"24px\">\n",
              "    <path d=\"M0 0h24v24H0V0z\" fill=\"none\"/>\n",
              "    <path d=\"M18.56 5.44l.94 2.06.94-2.06 2.06-.94-2.06-.94-.94-2.06-.94 2.06-2.06.94zm-11 1L8.5 8.5l.94-2.06 2.06-.94-2.06-.94L8.5 2.5l-.94 2.06-2.06.94zm10 10l.94 2.06.94-2.06 2.06-.94-2.06-.94-.94-2.06-.94 2.06-2.06.94z\"/><path d=\"M17.41 7.96l-1.37-1.37c-.4-.4-.92-.59-1.43-.59-.52 0-1.04.2-1.43.59L10.3 9.45l-7.72 7.72c-.78.78-.78 2.05 0 2.83L4 21.41c.39.39.9.59 1.41.59.51 0 1.02-.2 1.41-.59l7.78-7.78 2.81-2.81c.8-.78.8-2.07 0-2.86zM5.41 20L4 18.59l7.72-7.72 1.47 1.35L5.41 20z\"/>\n",
              "  </svg>\n",
              "      </button>\n",
              "      \n",
              "  <style>\n",
              "    .colab-df-container {\n",
              "      display:flex;\n",
              "      flex-wrap:wrap;\n",
              "      gap: 12px;\n",
              "    }\n",
              "\n",
              "    .colab-df-convert {\n",
              "      background-color: #E8F0FE;\n",
              "      border: none;\n",
              "      border-radius: 50%;\n",
              "      cursor: pointer;\n",
              "      display: none;\n",
              "      fill: #1967D2;\n",
              "      height: 32px;\n",
              "      padding: 0 0 0 0;\n",
              "      width: 32px;\n",
              "    }\n",
              "\n",
              "    .colab-df-convert:hover {\n",
              "      background-color: #E2EBFA;\n",
              "      box-shadow: 0px 1px 2px rgba(60, 64, 67, 0.3), 0px 1px 3px 1px rgba(60, 64, 67, 0.15);\n",
              "      fill: #174EA6;\n",
              "    }\n",
              "\n",
              "    [theme=dark] .colab-df-convert {\n",
              "      background-color: #3B4455;\n",
              "      fill: #D2E3FC;\n",
              "    }\n",
              "\n",
              "    [theme=dark] .colab-df-convert:hover {\n",
              "      background-color: #434B5C;\n",
              "      box-shadow: 0px 1px 3px 1px rgba(0, 0, 0, 0.15);\n",
              "      filter: drop-shadow(0px 1px 2px rgba(0, 0, 0, 0.3));\n",
              "      fill: #FFFFFF;\n",
              "    }\n",
              "  </style>\n",
              "\n",
              "      <script>\n",
              "        const buttonEl =\n",
              "          document.querySelector('#df-8f7b8809-4ac8-44fb-be15-4a56b6ef1177 button.colab-df-convert');\n",
              "        buttonEl.style.display =\n",
              "          google.colab.kernel.accessAllowed ? 'block' : 'none';\n",
              "\n",
              "        async function convertToInteractive(key) {\n",
              "          const element = document.querySelector('#df-8f7b8809-4ac8-44fb-be15-4a56b6ef1177');\n",
              "          const dataTable =\n",
              "            await google.colab.kernel.invokeFunction('convertToInteractive',\n",
              "                                                     [key], {});\n",
              "          if (!dataTable) return;\n",
              "\n",
              "          const docLinkHtml = 'Like what you see? Visit the ' +\n",
              "            '<a target=\"_blank\" href=https://colab.research.google.com/notebooks/data_table.ipynb>data table notebook</a>'\n",
              "            + ' to learn more about interactive tables.';\n",
              "          element.innerHTML = '';\n",
              "          dataTable['output_type'] = 'display_data';\n",
              "          await google.colab.output.renderOutput(dataTable, element);\n",
              "          const docLink = document.createElement('div');\n",
              "          docLink.innerHTML = docLinkHtml;\n",
              "          element.appendChild(docLink);\n",
              "        }\n",
              "      </script>\n",
              "    </div>\n",
              "  </div>\n",
              "  "
            ],
            "text/plain": [
              "                   Open         Close\n",
              "Date                                 \n",
              "January    34652.961694  34761.649950\n",
              "February   45874.967216  46306.798968\n",
              "March      54544.678176  54998.008695\n",
              "April      57251.256250  57206.720052\n",
              "May        47105.828503  46443.286668\n",
              "June       35920.546940  35845.154688\n",
              "July       34234.212450  34444.973790\n",
              "August     45516.119834  45709.022682\n",
              "September  46041.859375  45939.771484\n",
              "October    57344.743952  57911.970514\n",
              "November   60857.520313  60621.488802\n",
              "December   49670.411794  49263.209174"
            ]
          },
          "metadata": {},
          "execution_count": 83
        }
      ]
    },
    {
      "cell_type": "code",
      "source": [
        "# Monthly Avg. open & close price 2020\n",
        "fig, ax = plt.subplots(figsize=(10,5))\n",
        "x = np.arange(len(open_close_2021))\n",
        "width = 0.4\n",
        "plt.bar(x-0.2, open_close_2021['Open'], width, color='red', label='Stock Open Price')\n",
        "plt.bar(x+0.2, open_close_2021['Close'],width, color='gold', label='Stock Close Price')\n",
        "plt.title('Open & close price 2021', fontsize=25)\n",
        "plt.xlabel('Month',fontsize=20)\n",
        "plt.xticks(x, open_close_2021.index, fontsize=17,rotation = 'vertical')\n",
        "plt.ylabel('Stock Price', fontsize=20)\n",
        "plt.yticks(fontsize=17)\n",
        "ax.tick_params(bottom=False, left=True)\n",
        "plt.legend(frameon=False, fontsize=15)\n",
        "plt.show()"
      ],
      "metadata": {
        "colab": {
          "base_uri": "https://localhost:8080/",
          "height": 451
        },
        "id": "Yfl1iurKqUyE",
        "outputId": "3cd8dfa3-f715-4b4e-d41b-3c217859ebf4"
      },
      "execution_count": 84,
      "outputs": [
        {
          "output_type": "display_data",
          "data": {
            "image/png": "[encoded data removed]",
            "text/plain": [
              "<Figure size 720x360 with 1 Axes>"
            ]
          },
          "metadata": {
            "needs_background": "light"
          }
        }
      ]
    },
    {
      "cell_type": "markdown",
      "source": [
        "As we seen in these plots there is a storng decline in stock price during Covid peak time in 2020 and 2021"
      ],
      "metadata": {
        "id": "ldHXpjOaxR51"
      }
    },
    {
      "cell_type": "code",
      "source": [
        "# Creating a new feature for better representing day-wise values\n",
        "train_data['Mean_low_high'] = (train_data['Low'] + train_data['High'])/2"
      ],
      "metadata": {
        "id": "fo9QQhNG1EGv"
      },
      "execution_count": 85,
      "outputs": []
    },
    {
      "cell_type": "code",
      "source": [
        "train_data.head()"
      ],
      "metadata": {
        "colab": {
          "base_uri": "https://localhost:8080/",
          "height": 238
        },
        "id": "Nf3OCwwE1YIv",
        "outputId": "b657b47e-607a-49b3-9419-c28927cb9390"
      },
      "execution_count": 86,
      "outputs": [
        {
          "output_type": "execute_result",
          "data": {
            "text/html": [
              "\n",
              "  <div id=\"df-86d61968-d0b7-433b-a5a6-74cdf51983ad\">\n",
              "    <div class=\"colab-df-container\">\n",
              "      <div>\n",
              "<style scoped>\n",
              "    .dataframe tbody tr th:only-of-type {\n",
              "        vertical-align: middle;\n",
              "    }\n",
              "\n",
              "    .dataframe tbody tr th {\n",
              "        vertical-align: top;\n",
              "    }\n",
              "\n",
              "    .dataframe thead th {\n",
              "        text-align: right;\n",
              "    }\n",
              "</style>\n",
              "<table border=\"1\" class=\"dataframe\">\n",
              "  <thead>\n",
              "    <tr style=\"text-align: right;\">\n",
              "      <th></th>\n",
              "      <th>Date</th>\n",
              "      <th>Open</th>\n",
              "      <th>High</th>\n",
              "      <th>Low</th>\n",
              "      <th>Close</th>\n",
              "      <th>Adj Close</th>\n",
              "      <th>Volume</th>\n",
              "      <th>Mean_low_high</th>\n",
              "    </tr>\n",
              "    <tr>\n",
              "      <th>Date</th>\n",
              "      <th></th>\n",
              "      <th></th>\n",
              "      <th></th>\n",
              "      <th></th>\n",
              "      <th></th>\n",
              "      <th></th>\n",
              "      <th></th>\n",
              "      <th></th>\n",
              "    </tr>\n",
              "  </thead>\n",
              "  <tbody>\n",
              "    <tr>\n",
              "      <th>2016-01-01</th>\n",
              "      <td>2016-01-01</td>\n",
              "      <td>430.721008</td>\n",
              "      <td>436.246002</td>\n",
              "      <td>427.515015</td>\n",
              "      <td>434.334015</td>\n",
              "      <td>434.334015</td>\n",
              "      <td>36278900</td>\n",
              "      <td>431.880509</td>\n",
              "    </tr>\n",
              "    <tr>\n",
              "      <th>2016-01-02</th>\n",
              "      <td>2016-01-02</td>\n",
              "      <td>434.622009</td>\n",
              "      <td>436.062012</td>\n",
              "      <td>431.869995</td>\n",
              "      <td>433.437988</td>\n",
              "      <td>433.437988</td>\n",
              "      <td>30096600</td>\n",
              "      <td>433.966003</td>\n",
              "    </tr>\n",
              "    <tr>\n",
              "      <th>2016-01-03</th>\n",
              "      <td>2016-01-03</td>\n",
              "      <td>433.578003</td>\n",
              "      <td>433.743011</td>\n",
              "      <td>424.705994</td>\n",
              "      <td>430.010986</td>\n",
              "      <td>430.010986</td>\n",
              "      <td>39633800</td>\n",
              "      <td>429.224502</td>\n",
              "    </tr>\n",
              "    <tr>\n",
              "      <th>2016-01-04</th>\n",
              "      <td>2016-01-04</td>\n",
              "      <td>430.061005</td>\n",
              "      <td>434.516998</td>\n",
              "      <td>429.084015</td>\n",
              "      <td>433.091003</td>\n",
              "      <td>433.091003</td>\n",
              "      <td>38477500</td>\n",
              "      <td>431.800506</td>\n",
              "    </tr>\n",
              "    <tr>\n",
              "      <th>2016-01-05</th>\n",
              "      <td>2016-01-05</td>\n",
              "      <td>433.069000</td>\n",
              "      <td>434.182007</td>\n",
              "      <td>429.675995</td>\n",
              "      <td>431.959991</td>\n",
              "      <td>431.959991</td>\n",
              "      <td>34522600</td>\n",
              "      <td>431.929001</td>\n",
              "    </tr>\n",
              "  </tbody>\n",
              "</table>\n",
              "</div>\n",
              "      <button class=\"colab-df-convert\" onclick=\"convertToInteractive('df-86d61968-d0b7-433b-a5a6-74cdf51983ad')\"\n",
              "              title=\"Convert this dataframe to an interactive table.\"\n",
              "              style=\"display:none;\">\n",
              "        \n",
              "  <svg xmlns=\"http://www.w3.org/2000/svg\" height=\"24px\"viewBox=\"0 0 24 24\"\n",
              "       width=\"24px\">\n",
              "    <path d=\"M0 0h24v24H0V0z\" fill=\"none\"/>\n",
              "    <path d=\"M18.56 5.44l.94 2.06.94-2.06 2.06-.94-2.06-.94-.94-2.06-.94 2.06-2.06.94zm-11 1L8.5 8.5l.94-2.06 2.06-.94-2.06-.94L8.5 2.5l-.94 2.06-2.06.94zm10 10l.94 2.06.94-2.06 2.06-.94-2.06-.94-.94-2.06-.94 2.06-2.06.94z\"/><path d=\"M17.41 7.96l-1.37-1.37c-.4-.4-.92-.59-1.43-.59-.52 0-1.04.2-1.43.59L10.3 9.45l-7.72 7.72c-.78.78-.78 2.05 0 2.83L4 21.41c.39.39.9.59 1.41.59.51 0 1.02-.2 1.41-.59l7.78-7.78 2.81-2.81c.8-.78.8-2.07 0-2.86zM5.41 20L4 18.59l7.72-7.72 1.47 1.35L5.41 20z\"/>\n",
              "  </svg>\n",
              "      </button>\n",
              "      \n",
              "  <style>\n",
              "    .colab-df-container {\n",
              "      display:flex;\n",
              "      flex-wrap:wrap;\n",
              "      gap: 12px;\n",
              "    }\n",
              "\n",
              "    .colab-df-convert {\n",
              "      background-color: #E8F0FE;\n",
              "      border: none;\n",
              "      border-radius: 50%;\n",
              "      cursor: pointer;\n",
              "      display: none;\n",
              "      fill: #1967D2;\n",
              "      height: 32px;\n",
              "      padding: 0 0 0 0;\n",
              "      width: 32px;\n",
              "    }\n",
              "\n",
              "    .colab-df-convert:hover {\n",
              "      background-color: #E2EBFA;\n",
              "      box-shadow: 0px 1px 2px rgba(60, 64, 67, 0.3), 0px 1px 3px 1px rgba(60, 64, 67, 0.15);\n",
              "      fill: #174EA6;\n",
              "    }\n",
              "\n",
              "    [theme=dark] .colab-df-convert {\n",
              "      background-color: #3B4455;\n",
              "      fill: #D2E3FC;\n",
              "    }\n",
              "\n",
              "    [theme=dark] .colab-df-convert:hover {\n",
              "      background-color: #434B5C;\n",
              "      box-shadow: 0px 1px 3px 1px rgba(0, 0, 0, 0.15);\n",
              "      filter: drop-shadow(0px 1px 2px rgba(0, 0, 0, 0.3));\n",
              "      fill: #FFFFFF;\n",
              "    }\n",
              "  </style>\n",
              "\n",
              "      <script>\n",
              "        const buttonEl =\n",
              "          document.querySelector('#df-86d61968-d0b7-433b-a5a6-74cdf51983ad button.colab-df-convert');\n",
              "        buttonEl.style.display =\n",
              "          google.colab.kernel.accessAllowed ? 'block' : 'none';\n",
              "\n",
              "        async function convertToInteractive(key) {\n",
              "          const element = document.querySelector('#df-86d61968-d0b7-433b-a5a6-74cdf51983ad');\n",
              "          const dataTable =\n",
              "            await google.colab.kernel.invokeFunction('convertToInteractive',\n",
              "                                                     [key], {});\n",
              "          if (!dataTable) return;\n",
              "\n",
              "          const docLinkHtml = 'Like what you see? Visit the ' +\n",
              "            '<a target=\"_blank\" href=https://colab.research.google.com/notebooks/data_table.ipynb>data table notebook</a>'\n",
              "            + ' to learn more about interactive tables.';\n",
              "          element.innerHTML = '';\n",
              "          dataTable['output_type'] = 'display_data';\n",
              "          await google.colab.output.renderOutput(dataTable, element);\n",
              "          const docLink = document.createElement('div');\n",
              "          docLink.innerHTML = docLinkHtml;\n",
              "          element.appendChild(docLink);\n",
              "        }\n",
              "      </script>\n",
              "    </div>\n",
              "  </div>\n",
              "  "
            ],
            "text/plain": [
              "                 Date        Open  ...    Volume  Mean_low_high\n",
              "Date                               ...                         \n",
              "2016-01-01 2016-01-01  430.721008  ...  36278900     431.880509\n",
              "2016-01-02 2016-01-02  434.622009  ...  30096600     433.966003\n",
              "2016-01-03 2016-01-03  433.578003  ...  39633800     429.224502\n",
              "2016-01-04 2016-01-04  430.061005  ...  38477500     431.800506\n",
              "2016-01-05 2016-01-05  433.069000  ...  34522600     431.929001\n",
              "\n",
              "[5 rows x 8 columns]"
            ]
          },
          "metadata": {},
          "execution_count": 86
        }
      ]
    },
    {
      "cell_type": "code",
      "source": [
        "#Splitting the Features and Target\n",
        "X = train_data.drop(['Date','Close','Adj Close'],axis=1)\n",
        "Y = train_data['Adj Close']"
      ],
      "metadata": {
        "id": "HwhFcQTs216z"
      },
      "execution_count": 87,
      "outputs": []
    },
    {
      "cell_type": "code",
      "source": [
        "X.reset_index(drop=True, inplace=True)"
      ],
      "metadata": {
        "id": "FyvlpAQr3ZcG"
      },
      "execution_count": 88,
      "outputs": []
    },
    {
      "cell_type": "code",
      "source": [
        "X"
      ],
      "metadata": {
        "colab": {
          "base_uri": "https://localhost:8080/",
          "height": 424
        },
        "id": "RBabp8s--wqD",
        "outputId": "84ae8f3e-02bb-4edd-bc39-f5165117ccdf"
      },
      "execution_count": 89,
      "outputs": [
        {
          "output_type": "execute_result",
          "data": {
            "text/html": [
              "\n",
              "  <div id=\"df-9a66553a-9f23-4642-90dc-d7a3d7ab0432\">\n",
              "    <div class=\"colab-df-container\">\n",
              "      <div>\n",
              "<style scoped>\n",
              "    .dataframe tbody tr th:only-of-type {\n",
              "        vertical-align: middle;\n",
              "    }\n",
              "\n",
              "    .dataframe tbody tr th {\n",
              "        vertical-align: top;\n",
              "    }\n",
              "\n",
              "    .dataframe thead th {\n",
              "        text-align: right;\n",
              "    }\n",
              "</style>\n",
              "<table border=\"1\" class=\"dataframe\">\n",
              "  <thead>\n",
              "    <tr style=\"text-align: right;\">\n",
              "      <th></th>\n",
              "      <th>Open</th>\n",
              "      <th>High</th>\n",
              "      <th>Low</th>\n",
              "      <th>Volume</th>\n",
              "      <th>Mean_low_high</th>\n",
              "    </tr>\n",
              "  </thead>\n",
              "  <tbody>\n",
              "    <tr>\n",
              "      <th>0</th>\n",
              "      <td>430.721008</td>\n",
              "      <td>436.246002</td>\n",
              "      <td>427.515015</td>\n",
              "      <td>36278900</td>\n",
              "      <td>431.880509</td>\n",
              "    </tr>\n",
              "    <tr>\n",
              "      <th>1</th>\n",
              "      <td>434.622009</td>\n",
              "      <td>436.062012</td>\n",
              "      <td>431.869995</td>\n",
              "      <td>30096600</td>\n",
              "      <td>433.966003</td>\n",
              "    </tr>\n",
              "    <tr>\n",
              "      <th>2</th>\n",
              "      <td>433.578003</td>\n",
              "      <td>433.743011</td>\n",
              "      <td>424.705994</td>\n",
              "      <td>39633800</td>\n",
              "      <td>429.224502</td>\n",
              "    </tr>\n",
              "    <tr>\n",
              "      <th>3</th>\n",
              "      <td>430.061005</td>\n",
              "      <td>434.516998</td>\n",
              "      <td>429.084015</td>\n",
              "      <td>38477500</td>\n",
              "      <td>431.800506</td>\n",
              "    </tr>\n",
              "    <tr>\n",
              "      <th>4</th>\n",
              "      <td>433.069000</td>\n",
              "      <td>434.182007</td>\n",
              "      <td>429.675995</td>\n",
              "      <td>34522600</td>\n",
              "      <td>431.929001</td>\n",
              "    </tr>\n",
              "    <tr>\n",
              "      <th>...</th>\n",
              "      <td>...</td>\n",
              "      <td>...</td>\n",
              "      <td>...</td>\n",
              "      <td>...</td>\n",
              "      <td>...</td>\n",
              "    </tr>\n",
              "    <tr>\n",
              "      <th>2188</th>\n",
              "      <td>50679.859375</td>\n",
              "      <td>50679.859375</td>\n",
              "      <td>47414.210938</td>\n",
              "      <td>33430376883</td>\n",
              "      <td>49047.035157</td>\n",
              "    </tr>\n",
              "    <tr>\n",
              "      <th>2189</th>\n",
              "      <td>47623.871094</td>\n",
              "      <td>48119.742188</td>\n",
              "      <td>46201.496094</td>\n",
              "      <td>30049226299</td>\n",
              "      <td>47160.619141</td>\n",
              "    </tr>\n",
              "    <tr>\n",
              "      <th>2190</th>\n",
              "      <td>46490.605469</td>\n",
              "      <td>47879.964844</td>\n",
              "      <td>46060.312500</td>\n",
              "      <td>26686491018</td>\n",
              "      <td>46970.138672</td>\n",
              "    </tr>\n",
              "    <tr>\n",
              "      <th>2191</th>\n",
              "      <td>47169.371094</td>\n",
              "      <td>48472.527344</td>\n",
              "      <td>45819.953125</td>\n",
              "      <td>36974172400</td>\n",
              "      <td>47146.240235</td>\n",
              "    </tr>\n",
              "    <tr>\n",
              "      <th>2192</th>\n",
              "      <td>46311.746094</td>\n",
              "      <td>47827.312500</td>\n",
              "      <td>46288.484375</td>\n",
              "      <td>24582667004</td>\n",
              "      <td>47057.898438</td>\n",
              "    </tr>\n",
              "  </tbody>\n",
              "</table>\n",
              "<p>2193 rows × 5 columns</p>\n",
              "</div>\n",
              "      <button class=\"colab-df-convert\" onclick=\"convertToInteractive('df-9a66553a-9f23-4642-90dc-d7a3d7ab0432')\"\n",
              "              title=\"Convert this dataframe to an interactive table.\"\n",
              "              style=\"display:none;\">\n",
              "        \n",
              "  <svg xmlns=\"http://www.w3.org/2000/svg\" height=\"24px\"viewBox=\"0 0 24 24\"\n",
              "       width=\"24px\">\n",
              "    <path d=\"M0 0h24v24H0V0z\" fill=\"none\"/>\n",
              "    <path d=\"M18.56 5.44l.94 2.06.94-2.06 2.06-.94-2.06-.94-.94-2.06-.94 2.06-2.06.94zm-11 1L8.5 8.5l.94-2.06 2.06-.94-2.06-.94L8.5 2.5l-.94 2.06-2.06.94zm10 10l.94 2.06.94-2.06 2.06-.94-2.06-.94-.94-2.06-.94 2.06-2.06.94z\"/><path d=\"M17.41 7.96l-1.37-1.37c-.4-.4-.92-.59-1.43-.59-.52 0-1.04.2-1.43.59L10.3 9.45l-7.72 7.72c-.78.78-.78 2.05 0 2.83L4 21.41c.39.39.9.59 1.41.59.51 0 1.02-.2 1.41-.59l7.78-7.78 2.81-2.81c.8-.78.8-2.07 0-2.86zM5.41 20L4 18.59l7.72-7.72 1.47 1.35L5.41 20z\"/>\n",
              "  </svg>\n",
              "      </button>\n",
              "      \n",
              "  <style>\n",
              "    .colab-df-container {\n",
              "      display:flex;\n",
              "      flex-wrap:wrap;\n",
              "      gap: 12px;\n",
              "    }\n",
              "\n",
              "    .colab-df-convert {\n",
              "      background-color: #E8F0FE;\n",
              "      border: none;\n",
              "      border-radius: 50%;\n",
              "      cursor: pointer;\n",
              "      display: none;\n",
              "      fill: #1967D2;\n",
              "      height: 32px;\n",
              "      padding: 0 0 0 0;\n",
              "      width: 32px;\n",
              "    }\n",
              "\n",
              "    .colab-df-convert:hover {\n",
              "      background-color: #E2EBFA;\n",
              "      box-shadow: 0px 1px 2px rgba(60, 64, 67, 0.3), 0px 1px 3px 1px rgba(60, 64, 67, 0.15);\n",
              "      fill: #174EA6;\n",
              "    }\n",
              "\n",
              "    [theme=dark] .colab-df-convert {\n",
              "      background-color: #3B4455;\n",
              "      fill: #D2E3FC;\n",
              "    }\n",
              "\n",
              "    [theme=dark] .colab-df-convert:hover {\n",
              "      background-color: #434B5C;\n",
              "      box-shadow: 0px 1px 3px 1px rgba(0, 0, 0, 0.15);\n",
              "      filter: drop-shadow(0px 1px 2px rgba(0, 0, 0, 0.3));\n",
              "      fill: #FFFFFF;\n",
              "    }\n",
              "  </style>\n",
              "\n",
              "      <script>\n",
              "        const buttonEl =\n",
              "          document.querySelector('#df-9a66553a-9f23-4642-90dc-d7a3d7ab0432 button.colab-df-convert');\n",
              "        buttonEl.style.display =\n",
              "          google.colab.kernel.accessAllowed ? 'block' : 'none';\n",
              "\n",
              "        async function convertToInteractive(key) {\n",
              "          const element = document.querySelector('#df-9a66553a-9f23-4642-90dc-d7a3d7ab0432');\n",
              "          const dataTable =\n",
              "            await google.colab.kernel.invokeFunction('convertToInteractive',\n",
              "                                                     [key], {});\n",
              "          if (!dataTable) return;\n",
              "\n",
              "          const docLinkHtml = 'Like what you see? Visit the ' +\n",
              "            '<a target=\"_blank\" href=https://colab.research.google.com/notebooks/data_table.ipynb>data table notebook</a>'\n",
              "            + ' to learn more about interactive tables.';\n",
              "          element.innerHTML = '';\n",
              "          dataTable['output_type'] = 'display_data';\n",
              "          await google.colab.output.renderOutput(dataTable, element);\n",
              "          const docLink = document.createElement('div');\n",
              "          docLink.innerHTML = docLinkHtml;\n",
              "          element.appendChild(docLink);\n",
              "        }\n",
              "      </script>\n",
              "    </div>\n",
              "  </div>\n",
              "  "
            ],
            "text/plain": [
              "              Open          High           Low       Volume  Mean_low_high\n",
              "0       430.721008    436.246002    427.515015     36278900     431.880509\n",
              "1       434.622009    436.062012    431.869995     30096600     433.966003\n",
              "2       433.578003    433.743011    424.705994     39633800     429.224502\n",
              "3       430.061005    434.516998    429.084015     38477500     431.800506\n",
              "4       433.069000    434.182007    429.675995     34522600     431.929001\n",
              "...            ...           ...           ...          ...            ...\n",
              "2188  50679.859375  50679.859375  47414.210938  33430376883   49047.035157\n",
              "2189  47623.871094  48119.742188  46201.496094  30049226299   47160.619141\n",
              "2190  46490.605469  47879.964844  46060.312500  26686491018   46970.138672\n",
              "2191  47169.371094  48472.527344  45819.953125  36974172400   47146.240235\n",
              "2192  46311.746094  47827.312500  46288.484375  24582667004   47057.898438\n",
              "\n",
              "[2193 rows x 5 columns]"
            ]
          },
          "metadata": {},
          "execution_count": 89
        }
      ]
    },
    {
      "cell_type": "code",
      "source": [
        "Y.reset_index(drop=True, inplace=True)"
      ],
      "metadata": {
        "id": "epEljc3c3iCn"
      },
      "execution_count": 91,
      "outputs": []
    },
    {
      "cell_type": "code",
      "source": [
        "Y"
      ],
      "metadata": {
        "colab": {
          "base_uri": "https://localhost:8080/"
        },
        "id": "gPlr0hrX-0Vf",
        "outputId": "da1be467-13b2-4f5f-c814-d251e9b6b7f0"
      },
      "execution_count": 92,
      "outputs": [
        {
          "output_type": "execute_result",
          "data": {
            "text/plain": [
              "0         434.334015\n",
              "1         433.437988\n",
              "2         430.010986\n",
              "3         433.091003\n",
              "4         431.959991\n",
              "            ...     \n",
              "2188    47588.855469\n",
              "2189    46444.710938\n",
              "2190    47178.125000\n",
              "2191    46306.445313\n",
              "2192    47686.812500\n",
              "Name: Adj Close, Length: 2193, dtype: float64"
            ]
          },
          "metadata": {},
          "execution_count": 92
        }
      ]
    },
    {
      "cell_type": "code",
      "source": [
        "#data standardisation\n",
        "scaler = StandardScaler()\n",
        "scaler.fit(X)\n",
        "X_std= scaler.transform(X)\n"
      ],
      "metadata": {
        "id": "14ibnZ6V9k94"
      },
      "execution_count": 93,
      "outputs": []
    },
    {
      "cell_type": "code",
      "source": [
        "X_std"
      ],
      "metadata": {
        "colab": {
          "base_uri": "https://localhost:8080/"
        },
        "id": "UVxAsqhh98aT",
        "outputId": "0eaf09de-8d39-438d-c8a0-bd01015c99cf"
      },
      "execution_count": 94,
      "outputs": [
        {
          "output_type": "execute_result",
          "data": {
            "text/plain": [
              "array([[-0.76322468, -0.76347907, -0.76383764, -0.84132148, -0.76385659],\n",
              "       [-0.76298791, -0.76348994, -0.76356472, -0.84161803, -0.76372974],\n",
              "       [-0.76305128, -0.7636269 , -0.76401368, -0.84116056, -0.76401815],\n",
              "       ...,\n",
              "       [ 2.03230928,  2.0386394 ,  2.09589589,  0.43700633,  2.06697029],\n",
              "       [ 2.07350592,  2.07363729,  2.08083296,  0.93047443,  2.07768218],\n",
              "       [ 2.02145369,  2.03552965,  2.11019506,  0.33609244,  2.07230853]])"
            ]
          },
          "metadata": {},
          "execution_count": 94
        }
      ]
    },
    {
      "cell_type": "code",
      "source": [
        "#splitting training and testing data\n",
        "X_train, X_test, Y_train, Y_test = train_test_split(X_std, Y, test_size = 0.2, random_state=2)"
      ],
      "metadata": {
        "id": "tpw3lADn9i5U"
      },
      "execution_count": 95,
      "outputs": []
    },
    {
      "cell_type": "code",
      "source": [
        "#Model Training: LinearRegression\n",
        "model = LinearRegression()\n",
        "model.fit(X_train, Y_train)"
      ],
      "metadata": {
        "colab": {
          "base_uri": "https://localhost:8080/"
        },
        "id": "R6JiSEXf3pyh",
        "outputId": "d77ef21f-3318-468f-ff14-5573de789abb"
      },
      "execution_count": 96,
      "outputs": [
        {
          "output_type": "execute_result",
          "data": {
            "text/plain": [
              "LinearRegression()"
            ]
          },
          "metadata": {},
          "execution_count": 96
        }
      ]
    },
    {
      "cell_type": "code",
      "source": [
        "Y_train_pred=model.predict(X_train)\n",
        "print(Y_train_pred)"
      ],
      "metadata": {
        "colab": {
          "base_uri": "https://localhost:8080/"
        },
        "id": "re8F8Aaz4PeE",
        "outputId": "20358bad-8e3d-4709-a47f-8ce74b78137d"
      },
      "execution_count": 97,
      "outputs": [
        {
          "output_type": "stream",
          "name": "stdout",
          "text": [
            "[  451.463548    6197.79440896 10638.28225348 ...  7516.00217722\n",
            "  3819.50198108  9157.33728921]\n"
          ]
        }
      ]
    },
    {
      "cell_type": "code",
      "source": [
        "Y_train"
      ],
      "metadata": {
        "colab": {
          "base_uri": "https://localhost:8080/"
        },
        "id": "4rpfl3a-LkZS",
        "outputId": "e9865d2c-23bc-40d9-fb52-c63c8c699e7e"
      },
      "execution_count": 98,
      "outputs": [
        {
          "output_type": "execute_result",
          "data": {
            "text/plain": [
              "117       444.687012\n",
              "923      6228.810059\n",
              "1290    10256.058594\n",
              "1616     9800.636719\n",
              "365       963.742981\n",
              "            ...     \n",
              "1071     3419.937256\n",
              "433      1188.489990\n",
              "674      7407.410156\n",
              "1099     3857.717529\n",
              "1608     9181.017578\n",
              "Name: Adj Close, Length: 1754, dtype: float64"
            ]
          },
          "metadata": {},
          "execution_count": 98
        }
      ]
    },
    {
      "cell_type": "code",
      "source": [
        "#Model evaluation on training data\n",
        "#R_2 score\n",
        "error_score = r2_score(Y_train, Y_train_pred)\n",
        "error_score"
      ],
      "metadata": {
        "colab": {
          "base_uri": "https://localhost:8080/"
        },
        "id": "xoWpKhKt5NMC",
        "outputId": "7e2d4b24-f54e-49c1-b35a-41ce4a9d7454"
      },
      "execution_count": 99,
      "outputs": [
        {
          "output_type": "execute_result",
          "data": {
            "text/plain": [
              "0.9995334401189993"
            ]
          },
          "metadata": {},
          "execution_count": 99
        }
      ]
    },
    {
      "cell_type": "code",
      "source": [
        "#Mean squared error\n",
        "mse=mean_squared_error(Y_train, Y_train_pred)\n",
        "mse"
      ],
      "metadata": {
        "colab": {
          "base_uri": "https://localhost:8080/"
        },
        "id": "eTYr8piZ4v5t",
        "outputId": "685d0c1f-3ee2-4c74-9050-7e73ba9656f3"
      },
      "execution_count": 100,
      "outputs": [
        {
          "output_type": "execute_result",
          "data": {
            "text/plain": [
              "123554.5908488913"
            ]
          },
          "metadata": {},
          "execution_count": 100
        }
      ]
    },
    {
      "cell_type": "code",
      "source": [
        "mae=mean_absolute_error(Y_train, Y_train_pred)\n",
        "mae"
      ],
      "metadata": {
        "colab": {
          "base_uri": "https://localhost:8080/"
        },
        "id": "dHqqxTmMKhFB",
        "outputId": "36eec2fc-ffb3-4a9e-d7e9-9667608b2d62"
      },
      "execution_count": 101,
      "outputs": [
        {
          "output_type": "execute_result",
          "data": {
            "text/plain": [
              "156.34486484829299"
            ]
          },
          "metadata": {},
          "execution_count": 101
        }
      ]
    },
    {
      "cell_type": "code",
      "source": [
        "plt.plot(Y_train.values, label = 'Actual Value')\n",
        "plt.plot(Y_train_pred, label = 'Predicted Value')\n",
        "plt.title(\"actual v/s predicted\")\n",
        "plt.xlabel('Time Period')\n",
        "plt.ylabel('stock price')\n",
        "plt.legend()\n",
        "plt.show()"
      ],
      "metadata": {
        "colab": {
          "base_uri": "https://localhost:8080/",
          "height": 295
        },
        "id": "9ReXPdId7unX",
        "outputId": "1fc6a62f-95cb-4167-b54f-97bbe305a8ef"
      },
      "execution_count": 102,
      "outputs": [
        {
          "output_type": "display_data",
          "data": {
            "image/png": "[encoded data removed]",
            "text/plain": [
              "<Figure size 432x288 with 1 Axes>"
            ]
          },
          "metadata": {
            "needs_background": "light"
          }
        }
      ]
    },
    {
      "cell_type": "code",
      "source": [
        "#model evaluation on test data\n",
        "Y_test_pred=model.predict(X_test)\n",
        "print(Y_test_pred)"
      ],
      "metadata": {
        "colab": {
          "base_uri": "https://localhost:8080/"
        },
        "id": "lQn5wMlI3MSR",
        "outputId": "3c43de18-dbdb-45ae-d0cd-29d440f1a18d"
      },
      "execution_count": 103,
      "outputs": [
        {
          "output_type": "stream",
          "name": "stdout",
          "text": [
            "[  611.91665195 62799.00981123  9125.10622927  6453.90339385\n",
            " 16630.72780469 48274.0774379  47130.284855     574.74308364\n",
            " 46282.32374588  7565.39726637  6499.08368976  3469.96022436\n",
            "  8551.71380792   755.19449497  2588.87705766  8854.1796886\n",
            " 56163.0967637  32834.66368709   966.78333294 54931.02158392\n",
            "   460.4025002   1798.73491219  2388.39452788  6479.09765608\n",
            "  4055.4845339   3535.69965015   632.68661712 11653.7175351\n",
            "  3431.20971403 45867.23770183  8575.89472841  9012.85082141\n",
            " 60959.35869776 10587.8001331   4329.01651807  3404.69719736\n",
            "  7265.22554192  9124.92659958  8200.49609331 10823.04080381\n",
            "  7755.2466791   3648.96505482  8191.30366228  8039.20259003\n",
            "   868.93505954  4215.33920405 13122.33267381  3992.24971484\n",
            "  6991.74150197  8066.17273321  7823.50809411  9258.35723486\n",
            "  7176.15727133  5339.7320611  46276.21022859  9748.63098879\n",
            "  9248.08633573  2761.49078442   622.5511278   9977.89848279\n",
            " 13694.97656143 15447.98005852   445.63042946  8411.31941835\n",
            "  4694.53538684 55121.52280867  6324.38993349   564.92076733\n",
            " 11037.07757627 63029.9730386   8399.51041292  8775.62984529\n",
            " 53238.83478863  7399.83660724  2189.54156807  7317.79593672\n",
            "  4654.95744484   379.15361819  6415.57595846  6344.27368487\n",
            "  7178.94588344 11486.25194355  8864.04418522 59422.45532206\n",
            "   420.40289872 65927.96544388  3893.43207684   607.5453142\n",
            "  3934.95379527  8546.17310562  9946.97987438   448.53348563\n",
            "   580.64892993  9551.09758047  8919.51517246  8244.92349893\n",
            "  3900.22035109  2911.49138803 47533.24706022  7536.45638714\n",
            "  7908.66974765 14063.96808869 10808.11343297  9590.40395513\n",
            " 58136.98911234   607.62274465  5758.43638168  9433.75272714\n",
            " 11371.07574879 45782.63473644   454.27103868 57097.60349226\n",
            "  9796.31495572 61315.02786737 60032.94225523   376.80667905\n",
            "  4068.06976849 58314.96284308   576.20373403   749.07139207\n",
            "  1026.33373461  4036.91411905   421.44539196  9212.73252342\n",
            "  3916.5734995    774.76314929  4018.44915555 10324.43908646\n",
            "   827.65315549   411.11701187   576.74091301 35063.68300555\n",
            "  5135.90965439  1171.62933151 50877.11236226   442.72196571\n",
            "  7704.33715475 48716.98968097 10593.21703704  2454.21838424\n",
            " 10103.03647459   431.39200683  3905.35497074  6785.57560639\n",
            "  2747.33255297   615.66952001 47462.25834909  9477.15051453\n",
            " 50522.46955064 45651.55332701  6539.38828534 10910.29204436\n",
            " 17153.9118925   6957.77592644 34150.64407452 10251.2145205\n",
            " 45198.30247435   632.45534319  4040.61500798  8373.177169\n",
            "   427.91384418  6040.45326279 46593.2629644   9730.73342539\n",
            " 46049.68741448 47902.32072723 46862.2588265   1111.27370901\n",
            "  1577.14456332  7530.37310631   604.4818646   6905.08495906\n",
            "  6346.23743199  6440.41663503  8239.19353325  7235.7642187\n",
            " 11128.79123265 24356.24533635  6448.45840464 36051.76506723\n",
            "  9608.19588586  6936.08230715   454.42987328 10905.6521872\n",
            " 56348.73589993  6456.01999087  2775.09955375  4056.09345256\n",
            " 64004.41356312  7251.30068836  3247.82054714  8428.22733539\n",
            "   638.67681786  9832.49001366 47828.62363363  5755.87451144\n",
            " 64727.17275837  7012.29054075  8416.92576941  6386.40252837\n",
            "   449.4294961  58490.18513158  6430.86911586  9221.17304161\n",
            "   370.32839964  9414.34399466  6192.65599187  8901.98262296\n",
            "  8126.3784589   9605.777563    7601.45060749  3440.12306508\n",
            "   448.80221772  5525.55736787  3686.75680821  3818.89654616\n",
            "  2563.05292488  5269.15495873  1079.30962383  2466.19783591\n",
            "  8345.22110882 10884.76133761  2835.80580778  7872.68182904\n",
            "  7261.79352944 10524.44359373   416.40208242 50931.21211229\n",
            "  3481.2843913   9214.93801476  1211.41455971 15133.46820756\n",
            " 55606.04169499 14897.43120941  5811.06162329  1180.65636021\n",
            " 15603.00394063 10858.64057991  3465.83652694   667.42505967\n",
            "  8052.20313846  4286.63982359 38892.84010225 40727.49102428\n",
            "  3924.14516642  7842.29157577  1066.75122552  2721.01724586\n",
            " 46317.90786075  1248.14080143 56924.34336556  6909.3956493\n",
            " 10131.09562491  4066.90511316  3450.91981808 63176.21746039\n",
            "  7901.05861333  1287.79058931 10543.94141481  7554.62700141\n",
            "  9692.88784299 13651.17236618 10348.59426299  1738.13355353\n",
            "  5929.27395613  8258.67689892  6375.44575142  1188.25948555\n",
            "  3227.24607415  3916.63291217 36677.60391944  7839.70704519\n",
            "   944.33944133  1182.98557914 11242.00311581  8718.15574729\n",
            "  8756.08819008  1176.43917672   672.36205711 10643.38683905\n",
            " 30920.67272982  9154.62293228  4880.09082373  7143.92905221\n",
            " 66934.80674748   403.15525493  7216.76918178   413.68813777\n",
            "  5384.75996402  7514.04099412 19135.22610605  6756.62083183\n",
            "  3293.13909081  6590.8438132  11201.05504117  9351.47169527\n",
            "   572.60817253   600.16830228 11836.4623842    577.95648941\n",
            "  3762.45649488   701.01806351  9927.5579724   7176.28720113\n",
            "  9609.65233449 54899.40304557 10916.03797625  1057.20705997\n",
            "   576.10714982  7921.63424879 58615.77630886   637.7953887\n",
            " 15888.27849538 11599.76603781 10222.28901821  7485.32081607\n",
            "  4217.63417333 14910.6755543   8462.55961102 10381.41264686\n",
            "  6456.87772893  9068.75199135 47453.26473381  3466.26201271\n",
            " 11820.2712825  31559.98926237  7405.91257297 63437.43789867\n",
            "  4573.7934982   9673.18504535  3410.82542191   816.85380877\n",
            "  6583.8344364   5335.89515312 34955.98108419  6153.56696043\n",
            "  6225.35594329  7251.52540558  9423.38324712 11934.77238503\n",
            "   603.40499118  6978.09590933  2569.4505955    571.47645763\n",
            "  8765.07605017  5180.35973207   582.11287847 23303.34535946\n",
            " 17782.64354078  8979.99749293  2640.52457573  6340.83711668\n",
            "  9160.3201902  57711.9241558  10706.65410285   440.16818149\n",
            "  4557.71161148   457.51016743  7462.07533189  9133.1939401\n",
            "  9056.66065608  5338.26647748 51546.47867073  4568.38584425\n",
            "  9717.50751573 37141.01300933 30314.23300999   762.94221973\n",
            "   580.18411224  1224.95617219  7662.24339573  6763.09147559\n",
            "  3937.67239382 56951.41340021 31966.5802383    668.39649865\n",
            " 10282.22892536 21101.12486366 44726.07610051   776.8447589\n",
            "  7253.64094401 14930.91475972 38252.96710238   390.89343619\n",
            "  1030.7346774   9608.47654769  4556.9142481    380.62806414\n",
            "   655.99835588  6826.85962411 33262.89203916  5538.98955005\n",
            " 38989.22191757 34684.57272418 18948.05230975 10035.63011798\n",
            "  8271.19632956 44825.26127154 48764.64377681 39185.87261061\n",
            " 10865.57370661  2567.82701349   434.58360602  9870.40298372\n",
            "   962.34922269 47457.53074926   660.50557328   584.15250305\n",
            "  8537.7265155   1118.07507442  4385.91049431   407.16953737\n",
            "  3771.82046892  9753.13017817 10077.83668781  1003.5012374\n",
            "  2872.32021997   445.09406364  7291.82432829  9234.58739048\n",
            "  1881.06097378  3796.33083625  8120.21953616 61845.15241987\n",
            " 11000.96721408  1222.23698123 51925.71423778  1016.02547584\n",
            "  3831.18941243 56741.06100727  4024.53616983   851.36017953\n",
            "  6229.88174875  2342.17079435 11737.45122936 48348.77822571\n",
            "   914.95981297  1135.14781933   674.57379135]\n"
          ]
        }
      ]
    },
    {
      "cell_type": "code",
      "source": [
        "Y_test"
      ],
      "metadata": {
        "colab": {
          "base_uri": "https://localhost:8080/"
        },
        "id": "EPqp9RFML4Gs",
        "outputId": "61b716e6-63e8-417b-e92c-4b802dd4276c"
      },
      "execution_count": 104,
      "outputs": [
        {
          "output_type": "execute_result",
          "data": {
            "text/plain": [
              "278       612.510986\n",
              "2137    63326.988281\n",
              "1659     9151.392578\n",
              "1031     6486.390137\n",
              "1781    16716.111328\n",
              "            ...     \n",
              "1697    11774.595703\n",
              "2070    48847.027344\n",
              "391       917.585999\n",
              "459      1133.250000\n",
              "176       665.122986\n",
              "Name: Adj Close, Length: 439, dtype: float64"
            ]
          },
          "metadata": {},
          "execution_count": 104
        }
      ]
    },
    {
      "cell_type": "code",
      "source": [
        "#R_2 score\n",
        "error_score = r2_score(Y_test,Y_test_pred)\n",
        "error_score"
      ],
      "metadata": {
        "colab": {
          "base_uri": "https://localhost:8080/"
        },
        "id": "CEAKrb683Uyz",
        "outputId": "d37c9a0a-a18a-4dff-8679-acb73dd8e900"
      },
      "execution_count": 106,
      "outputs": [
        {
          "output_type": "execute_result",
          "data": {
            "text/plain": [
              "0.9995902903756375"
            ]
          },
          "metadata": {},
          "execution_count": 106
        }
      ]
    },
    {
      "cell_type": "code",
      "source": [
        "#Mean squared error\n",
        "mse=mean_squared_error(Y_test, Y_test_pred)\n",
        "mse"
      ],
      "metadata": {
        "colab": {
          "base_uri": "https://localhost:8080/"
        },
        "id": "mR2HJYqf3ece",
        "outputId": "d1e96c50-3304-4889-fb1a-3409af8d01e6"
      },
      "execution_count": 107,
      "outputs": [
        {
          "output_type": "execute_result",
          "data": {
            "text/plain": [
              "122669.6114542074"
            ]
          },
          "metadata": {},
          "execution_count": 107
        }
      ]
    },
    {
      "cell_type": "code",
      "source": [
        "#mean absolute error\n",
        "mae=mean_absolute_error(Y_test, Y_test_pred)\n",
        "mae"
      ],
      "metadata": {
        "colab": {
          "base_uri": "https://localhost:8080/"
        },
        "id": "R36lE3hhMHn9",
        "outputId": "b3bff280-0c2a-4208-8b87-843927afa465"
      },
      "execution_count": 109,
      "outputs": [
        {
          "output_type": "execute_result",
          "data": {
            "text/plain": [
              "153.4909687998403"
            ]
          },
          "metadata": {},
          "execution_count": 109
        }
      ]
    },
    {
      "cell_type": "code",
      "source": [
        "plt.plot(Y_test.values, label = 'Actual Value')\n",
        "plt.plot(Y_test_pred, label = 'Predicted Value')\n",
        "plt.title(\"actual v/s predicted\")\n",
        "plt.xlabel('Time Period')\n",
        "plt.ylabel('stock price')\n",
        "plt.legend()\n",
        "plt.show()"
      ],
      "metadata": {
        "colab": {
          "base_uri": "https://localhost:8080/",
          "height": 295
        },
        "id": "jf_blJ3PNSq-",
        "outputId": "2068b990-34ae-4de2-c604-5beb0079df5c"
      },
      "execution_count": 110,
      "outputs": [
        {
          "output_type": "display_data",
          "data": {
            "image/png": "[encoded data removed]",
            "text/plain": [
              "<Figure size 432x288 with 1 Axes>"
            ]
          },
          "metadata": {
            "needs_background": "light"
          }
        }
      ]
    },
    {
      "cell_type": "markdown",
      "source": [
        "checking model performance on Out of Time Testing data"
      ],
      "metadata": {
        "id": "R0_sdu-ZTUlb"
      }
    },
    {
      "cell_type": "code",
      "source": [
        "#loading test data\n",
        "ott_data=pd.read_csv(\"/content/BTC-USD Out of Time Testing 1st Jan 2022 to 4th Feb 2022.csv\")"
      ],
      "metadata": {
        "id": "AZyzao7R_3t8"
      },
      "execution_count": 111,
      "outputs": []
    },
    {
      "cell_type": "code",
      "source": [
        "ott_data.head()"
      ],
      "metadata": {
        "colab": {
          "base_uri": "https://localhost:8080/",
          "height": 206
        },
        "id": "_U93HQeVAFen",
        "outputId": "ed9f6a5f-32c5-4178-81ec-c0b15a9c7b07"
      },
      "execution_count": 112,
      "outputs": [
        {
          "output_type": "execute_result",
          "data": {
            "text/html": [
              "\n",
              "  <div id=\"df-988d40e5-44e4-4a1f-84c9-11b34ab66529\">\n",
              "    <div class=\"colab-df-container\">\n",
              "      <div>\n",
              "<style scoped>\n",
              "    .dataframe tbody tr th:only-of-type {\n",
              "        vertical-align: middle;\n",
              "    }\n",
              "\n",
              "    .dataframe tbody tr th {\n",
              "        vertical-align: top;\n",
              "    }\n",
              "\n",
              "    .dataframe thead th {\n",
              "        text-align: right;\n",
              "    }\n",
              "</style>\n",
              "<table border=\"1\" class=\"dataframe\">\n",
              "  <thead>\n",
              "    <tr style=\"text-align: right;\">\n",
              "      <th></th>\n",
              "      <th>Date</th>\n",
              "      <th>Open</th>\n",
              "      <th>High</th>\n",
              "      <th>Low</th>\n",
              "      <th>Close</th>\n",
              "      <th>Adj Close</th>\n",
              "      <th>Volume</th>\n",
              "    </tr>\n",
              "  </thead>\n",
              "  <tbody>\n",
              "    <tr>\n",
              "      <th>0</th>\n",
              "      <td>2022-01-01</td>\n",
              "      <td>46311.746094</td>\n",
              "      <td>47827.312500</td>\n",
              "      <td>46288.484375</td>\n",
              "      <td>47686.812500</td>\n",
              "      <td>47686.812500</td>\n",
              "      <td>24582667004</td>\n",
              "    </tr>\n",
              "    <tr>\n",
              "      <th>1</th>\n",
              "      <td>2022-01-02</td>\n",
              "      <td>47680.925781</td>\n",
              "      <td>47881.406250</td>\n",
              "      <td>46856.937500</td>\n",
              "      <td>47345.218750</td>\n",
              "      <td>47345.218750</td>\n",
              "      <td>27951569547</td>\n",
              "    </tr>\n",
              "    <tr>\n",
              "      <th>2</th>\n",
              "      <td>2022-01-03</td>\n",
              "      <td>47343.542969</td>\n",
              "      <td>47510.726563</td>\n",
              "      <td>45835.964844</td>\n",
              "      <td>46458.117188</td>\n",
              "      <td>46458.117188</td>\n",
              "      <td>33071628362</td>\n",
              "    </tr>\n",
              "    <tr>\n",
              "      <th>3</th>\n",
              "      <td>2022-01-04</td>\n",
              "      <td>46458.851563</td>\n",
              "      <td>47406.546875</td>\n",
              "      <td>45752.464844</td>\n",
              "      <td>45897.574219</td>\n",
              "      <td>45897.574219</td>\n",
              "      <td>42494677905</td>\n",
              "    </tr>\n",
              "    <tr>\n",
              "      <th>4</th>\n",
              "      <td>2022-01-05</td>\n",
              "      <td>45899.359375</td>\n",
              "      <td>46929.046875</td>\n",
              "      <td>42798.222656</td>\n",
              "      <td>43569.003906</td>\n",
              "      <td>43569.003906</td>\n",
              "      <td>36851084859</td>\n",
              "    </tr>\n",
              "  </tbody>\n",
              "</table>\n",
              "</div>\n",
              "      <button class=\"colab-df-convert\" onclick=\"convertToInteractive('df-988d40e5-44e4-4a1f-84c9-11b34ab66529')\"\n",
              "              title=\"Convert this dataframe to an interactive table.\"\n",
              "              style=\"display:none;\">\n",
              "        \n",
              "  <svg xmlns=\"http://www.w3.org/2000/svg\" height=\"24px\"viewBox=\"0 0 24 24\"\n",
              "       width=\"24px\">\n",
              "    <path d=\"M0 0h24v24H0V0z\" fill=\"none\"/>\n",
              "    <path d=\"M18.56 5.44l.94 2.06.94-2.06 2.06-.94-2.06-.94-.94-2.06-.94 2.06-2.06.94zm-11 1L8.5 8.5l.94-2.06 2.06-.94-2.06-.94L8.5 2.5l-.94 2.06-2.06.94zm10 10l.94 2.06.94-2.06 2.06-.94-2.06-.94-.94-2.06-.94 2.06-2.06.94z\"/><path d=\"M17.41 7.96l-1.37-1.37c-.4-.4-.92-.59-1.43-.59-.52 0-1.04.2-1.43.59L10.3 9.45l-7.72 7.72c-.78.78-.78 2.05 0 2.83L4 21.41c.39.39.9.59 1.41.59.51 0 1.02-.2 1.41-.59l7.78-7.78 2.81-2.81c.8-.78.8-2.07 0-2.86zM5.41 20L4 18.59l7.72-7.72 1.47 1.35L5.41 20z\"/>\n",
              "  </svg>\n",
              "      </button>\n",
              "      \n",
              "  <style>\n",
              "    .colab-df-container {\n",
              "      display:flex;\n",
              "      flex-wrap:wrap;\n",
              "      gap: 12px;\n",
              "    }\n",
              "\n",
              "    .colab-df-convert {\n",
              "      background-color: #E8F0FE;\n",
              "      border: none;\n",
              "      border-radius: 50%;\n",
              "      cursor: pointer;\n",
              "      display: none;\n",
              "      fill: #1967D2;\n",
              "      height: 32px;\n",
              "      padding: 0 0 0 0;\n",
              "      width: 32px;\n",
              "    }\n",
              "\n",
              "    .colab-df-convert:hover {\n",
              "      background-color: #E2EBFA;\n",
              "      box-shadow: 0px 1px 2px rgba(60, 64, 67, 0.3), 0px 1px 3px 1px rgba(60, 64, 67, 0.15);\n",
              "      fill: #174EA6;\n",
              "    }\n",
              "\n",
              "    [theme=dark] .colab-df-convert {\n",
              "      background-color: #3B4455;\n",
              "      fill: #D2E3FC;\n",
              "    }\n",
              "\n",
              "    [theme=dark] .colab-df-convert:hover {\n",
              "      background-color: #434B5C;\n",
              "      box-shadow: 0px 1px 3px 1px rgba(0, 0, 0, 0.15);\n",
              "      filter: drop-shadow(0px 1px 2px rgba(0, 0, 0, 0.3));\n",
              "      fill: #FFFFFF;\n",
              "    }\n",
              "  </style>\n",
              "\n",
              "      <script>\n",
              "        const buttonEl =\n",
              "          document.querySelector('#df-988d40e5-44e4-4a1f-84c9-11b34ab66529 button.colab-df-convert');\n",
              "        buttonEl.style.display =\n",
              "          google.colab.kernel.accessAllowed ? 'block' : 'none';\n",
              "\n",
              "        async function convertToInteractive(key) {\n",
              "          const element = document.querySelector('#df-988d40e5-44e4-4a1f-84c9-11b34ab66529');\n",
              "          const dataTable =\n",
              "            await google.colab.kernel.invokeFunction('convertToInteractive',\n",
              "                                                     [key], {});\n",
              "          if (!dataTable) return;\n",
              "\n",
              "          const docLinkHtml = 'Like what you see? Visit the ' +\n",
              "            '<a target=\"_blank\" href=https://colab.research.google.com/notebooks/data_table.ipynb>data table notebook</a>'\n",
              "            + ' to learn more about interactive tables.';\n",
              "          element.innerHTML = '';\n",
              "          dataTable['output_type'] = 'display_data';\n",
              "          await google.colab.output.renderOutput(dataTable, element);\n",
              "          const docLink = document.createElement('div');\n",
              "          docLink.innerHTML = docLinkHtml;\n",
              "          element.appendChild(docLink);\n",
              "        }\n",
              "      </script>\n",
              "    </div>\n",
              "  </div>\n",
              "  "
            ],
            "text/plain": [
              "         Date          Open  ...     Adj Close       Volume\n",
              "0  2022-01-01  46311.746094  ...  47686.812500  24582667004\n",
              "1  2022-01-02  47680.925781  ...  47345.218750  27951569547\n",
              "2  2022-01-03  47343.542969  ...  46458.117188  33071628362\n",
              "3  2022-01-04  46458.851563  ...  45897.574219  42494677905\n",
              "4  2022-01-05  45899.359375  ...  43569.003906  36851084859\n",
              "\n",
              "[5 rows x 7 columns]"
            ]
          },
          "metadata": {},
          "execution_count": 112
        }
      ]
    },
    {
      "cell_type": "code",
      "source": [
        "ott_data.shape"
      ],
      "metadata": {
        "colab": {
          "base_uri": "https://localhost:8080/"
        },
        "id": "79h9IAGMAKuc",
        "outputId": "73c4240b-4cea-45db-dd45-4991d985ed9b"
      },
      "execution_count": 113,
      "outputs": [
        {
          "output_type": "execute_result",
          "data": {
            "text/plain": [
              "(35, 7)"
            ]
          },
          "metadata": {},
          "execution_count": 113
        }
      ]
    },
    {
      "cell_type": "code",
      "source": [
        "# Creating a new feature for better representing day-wise values\n",
        "ott_data['Mean_low_high'] = (ott_data['Low'] + ott_data['High'])/2"
      ],
      "metadata": {
        "id": "5Id-7etnAW-6"
      },
      "execution_count": 114,
      "outputs": []
    },
    {
      "cell_type": "code",
      "source": [
        "ott_data.head()"
      ],
      "metadata": {
        "colab": {
          "base_uri": "https://localhost:8080/",
          "height": 206
        },
        "id": "UeiIA3eoAc1b",
        "outputId": "35acef96-9797-45da-e823-989badd8de88"
      },
      "execution_count": 115,
      "outputs": [
        {
          "output_type": "execute_result",
          "data": {
            "text/html": [
              "\n",
              "  <div id=\"df-f94906a4-5194-4cd4-ba22-a6a62e5835eb\">\n",
              "    <div class=\"colab-df-container\">\n",
              "      <div>\n",
              "<style scoped>\n",
              "    .dataframe tbody tr th:only-of-type {\n",
              "        vertical-align: middle;\n",
              "    }\n",
              "\n",
              "    .dataframe tbody tr th {\n",
              "        vertical-align: top;\n",
              "    }\n",
              "\n",
              "    .dataframe thead th {\n",
              "        text-align: right;\n",
              "    }\n",
              "</style>\n",
              "<table border=\"1\" class=\"dataframe\">\n",
              "  <thead>\n",
              "    <tr style=\"text-align: right;\">\n",
              "      <th></th>\n",
              "      <th>Date</th>\n",
              "      <th>Open</th>\n",
              "      <th>High</th>\n",
              "      <th>Low</th>\n",
              "      <th>Close</th>\n",
              "      <th>Adj Close</th>\n",
              "      <th>Volume</th>\n",
              "      <th>Mean_low_high</th>\n",
              "    </tr>\n",
              "  </thead>\n",
              "  <tbody>\n",
              "    <tr>\n",
              "      <th>0</th>\n",
              "      <td>2022-01-01</td>\n",
              "      <td>46311.746094</td>\n",
              "      <td>47827.312500</td>\n",
              "      <td>46288.484375</td>\n",
              "      <td>47686.812500</td>\n",
              "      <td>47686.812500</td>\n",
              "      <td>24582667004</td>\n",
              "      <td>47057.898438</td>\n",
              "    </tr>\n",
              "    <tr>\n",
              "      <th>1</th>\n",
              "      <td>2022-01-02</td>\n",
              "      <td>47680.925781</td>\n",
              "      <td>47881.406250</td>\n",
              "      <td>46856.937500</td>\n",
              "      <td>47345.218750</td>\n",
              "      <td>47345.218750</td>\n",
              "      <td>27951569547</td>\n",
              "      <td>47369.171875</td>\n",
              "    </tr>\n",
              "    <tr>\n",
              "      <th>2</th>\n",
              "      <td>2022-01-03</td>\n",
              "      <td>47343.542969</td>\n",
              "      <td>47510.726563</td>\n",
              "      <td>45835.964844</td>\n",
              "      <td>46458.117188</td>\n",
              "      <td>46458.117188</td>\n",
              "      <td>33071628362</td>\n",
              "      <td>46673.345704</td>\n",
              "    </tr>\n",
              "    <tr>\n",
              "      <th>3</th>\n",
              "      <td>2022-01-04</td>\n",
              "      <td>46458.851563</td>\n",
              "      <td>47406.546875</td>\n",
              "      <td>45752.464844</td>\n",
              "      <td>45897.574219</td>\n",
              "      <td>45897.574219</td>\n",
              "      <td>42494677905</td>\n",
              "      <td>46579.505860</td>\n",
              "    </tr>\n",
              "    <tr>\n",
              "      <th>4</th>\n",
              "      <td>2022-01-05</td>\n",
              "      <td>45899.359375</td>\n",
              "      <td>46929.046875</td>\n",
              "      <td>42798.222656</td>\n",
              "      <td>43569.003906</td>\n",
              "      <td>43569.003906</td>\n",
              "      <td>36851084859</td>\n",
              "      <td>44863.634765</td>\n",
              "    </tr>\n",
              "  </tbody>\n",
              "</table>\n",
              "</div>\n",
              "      <button class=\"colab-df-convert\" onclick=\"convertToInteractive('df-f94906a4-5194-4cd4-ba22-a6a62e5835eb')\"\n",
              "              title=\"Convert this dataframe to an interactive table.\"\n",
              "              style=\"display:none;\">\n",
              "        \n",
              "  <svg xmlns=\"http://www.w3.org/2000/svg\" height=\"24px\"viewBox=\"0 0 24 24\"\n",
              "       width=\"24px\">\n",
              "    <path d=\"M0 0h24v24H0V0z\" fill=\"none\"/>\n",
              "    <path d=\"M18.56 5.44l.94 2.06.94-2.06 2.06-.94-2.06-.94-.94-2.06-.94 2.06-2.06.94zm-11 1L8.5 8.5l.94-2.06 2.06-.94-2.06-.94L8.5 2.5l-.94 2.06-2.06.94zm10 10l.94 2.06.94-2.06 2.06-.94-2.06-.94-.94-2.06-.94 2.06-2.06.94z\"/><path d=\"M17.41 7.96l-1.37-1.37c-.4-.4-.92-.59-1.43-.59-.52 0-1.04.2-1.43.59L10.3 9.45l-7.72 7.72c-.78.78-.78 2.05 0 2.83L4 21.41c.39.39.9.59 1.41.59.51 0 1.02-.2 1.41-.59l7.78-7.78 2.81-2.81c.8-.78.8-2.07 0-2.86zM5.41 20L4 18.59l7.72-7.72 1.47 1.35L5.41 20z\"/>\n",
              "  </svg>\n",
              "      </button>\n",
              "      \n",
              "  <style>\n",
              "    .colab-df-container {\n",
              "      display:flex;\n",
              "      flex-wrap:wrap;\n",
              "      gap: 12px;\n",
              "    }\n",
              "\n",
              "    .colab-df-convert {\n",
              "      background-color: #E8F0FE;\n",
              "      border: none;\n",
              "      border-radius: 50%;\n",
              "      cursor: pointer;\n",
              "      display: none;\n",
              "      fill: #1967D2;\n",
              "      height: 32px;\n",
              "      padding: 0 0 0 0;\n",
              "      width: 32px;\n",
              "    }\n",
              "\n",
              "    .colab-df-convert:hover {\n",
              "      background-color: #E2EBFA;\n",
              "      box-shadow: 0px 1px 2px rgba(60, 64, 67, 0.3), 0px 1px 3px 1px rgba(60, 64, 67, 0.15);\n",
              "      fill: #174EA6;\n",
              "    }\n",
              "\n",
              "    [theme=dark] .colab-df-convert {\n",
              "      background-color: #3B4455;\n",
              "      fill: #D2E3FC;\n",
              "    }\n",
              "\n",
              "    [theme=dark] .colab-df-convert:hover {\n",
              "      background-color: #434B5C;\n",
              "      box-shadow: 0px 1px 3px 1px rgba(0, 0, 0, 0.15);\n",
              "      filter: drop-shadow(0px 1px 2px rgba(0, 0, 0, 0.3));\n",
              "      fill: #FFFFFF;\n",
              "    }\n",
              "  </style>\n",
              "\n",
              "      <script>\n",
              "        const buttonEl =\n",
              "          document.querySelector('#df-f94906a4-5194-4cd4-ba22-a6a62e5835eb button.colab-df-convert');\n",
              "        buttonEl.style.display =\n",
              "          google.colab.kernel.accessAllowed ? 'block' : 'none';\n",
              "\n",
              "        async function convertToInteractive(key) {\n",
              "          const element = document.querySelector('#df-f94906a4-5194-4cd4-ba22-a6a62e5835eb');\n",
              "          const dataTable =\n",
              "            await google.colab.kernel.invokeFunction('convertToInteractive',\n",
              "                                                     [key], {});\n",
              "          if (!dataTable) return;\n",
              "\n",
              "          const docLinkHtml = 'Like what you see? Visit the ' +\n",
              "            '<a target=\"_blank\" href=https://colab.research.google.com/notebooks/data_table.ipynb>data table notebook</a>'\n",
              "            + ' to learn more about interactive tables.';\n",
              "          element.innerHTML = '';\n",
              "          dataTable['output_type'] = 'display_data';\n",
              "          await google.colab.output.renderOutput(dataTable, element);\n",
              "          const docLink = document.createElement('div');\n",
              "          docLink.innerHTML = docLinkHtml;\n",
              "          element.appendChild(docLink);\n",
              "        }\n",
              "      </script>\n",
              "    </div>\n",
              "  </div>\n",
              "  "
            ],
            "text/plain": [
              "         Date          Open  ...       Volume  Mean_low_high\n",
              "0  2022-01-01  46311.746094  ...  24582667004   47057.898438\n",
              "1  2022-01-02  47680.925781  ...  27951569547   47369.171875\n",
              "2  2022-01-03  47343.542969  ...  33071628362   46673.345704\n",
              "3  2022-01-04  46458.851563  ...  42494677905   46579.505860\n",
              "4  2022-01-05  45899.359375  ...  36851084859   44863.634765\n",
              "\n",
              "[5 rows x 8 columns]"
            ]
          },
          "metadata": {},
          "execution_count": 115
        }
      ]
    },
    {
      "cell_type": "code",
      "source": [
        "#Splitting the Features and Target\n",
        "X_ott = ott_data.drop(['Date','Close','Adj Close'],axis=1)\n",
        "Y_ott= ott_data['Adj Close']"
      ],
      "metadata": {
        "id": "NANpQoGuAkDz"
      },
      "execution_count": 116,
      "outputs": []
    },
    {
      "cell_type": "code",
      "source": [
        "X_ott.reset_index(drop=True, inplace=True)\n",
        "X_ott"
      ],
      "metadata": {
        "id": "oX5kIaaOAzcu",
        "colab": {
          "base_uri": "https://localhost:8080/",
          "height": 1000
        },
        "outputId": "c496ec1a-6cf2-4706-8f6a-15ca67c01823"
      },
      "execution_count": 117,
      "outputs": [
        {
          "output_type": "execute_result",
          "data": {
            "text/html": [
              "\n",
              "  <div id=\"df-b2dda3c7-c601-47fe-a716-837ce5d4b69a\">\n",
              "    <div class=\"colab-df-container\">\n",
              "      <div>\n",
              "<style scoped>\n",
              "    .dataframe tbody tr th:only-of-type {\n",
              "        vertical-align: middle;\n",
              "    }\n",
              "\n",
              "    .dataframe tbody tr th {\n",
              "        vertical-align: top;\n",
              "    }\n",
              "\n",
              "    .dataframe thead th {\n",
              "        text-align: right;\n",
              "    }\n",
              "</style>\n",
              "<table border=\"1\" class=\"dataframe\">\n",
              "  <thead>\n",
              "    <tr style=\"text-align: right;\">\n",
              "      <th></th>\n",
              "      <th>Open</th>\n",
              "      <th>High</th>\n",
              "      <th>Low</th>\n",
              "      <th>Volume</th>\n",
              "      <th>Mean_low_high</th>\n",
              "    </tr>\n",
              "  </thead>\n",
              "  <tbody>\n",
              "    <tr>\n",
              "      <th>0</th>\n",
              "      <td>46311.746094</td>\n",
              "      <td>47827.312500</td>\n",
              "      <td>46288.484375</td>\n",
              "      <td>24582667004</td>\n",
              "      <td>47057.898438</td>\n",
              "    </tr>\n",
              "    <tr>\n",
              "      <th>1</th>\n",
              "      <td>47680.925781</td>\n",
              "      <td>47881.406250</td>\n",
              "      <td>46856.937500</td>\n",
              "      <td>27951569547</td>\n",
              "      <td>47369.171875</td>\n",
              "    </tr>\n",
              "    <tr>\n",
              "      <th>2</th>\n",
              "      <td>47343.542969</td>\n",
              "      <td>47510.726563</td>\n",
              "      <td>45835.964844</td>\n",
              "      <td>33071628362</td>\n",
              "      <td>46673.345704</td>\n",
              "    </tr>\n",
              "    <tr>\n",
              "      <th>3</th>\n",
              "      <td>46458.851563</td>\n",
              "      <td>47406.546875</td>\n",
              "      <td>45752.464844</td>\n",
              "      <td>42494677905</td>\n",
              "      <td>46579.505860</td>\n",
              "    </tr>\n",
              "    <tr>\n",
              "      <th>4</th>\n",
              "      <td>45899.359375</td>\n",
              "      <td>46929.046875</td>\n",
              "      <td>42798.222656</td>\n",
              "      <td>36851084859</td>\n",
              "      <td>44863.634765</td>\n",
              "    </tr>\n",
              "    <tr>\n",
              "      <th>5</th>\n",
              "      <td>43565.511719</td>\n",
              "      <td>43748.718750</td>\n",
              "      <td>42645.539063</td>\n",
              "      <td>30208048289</td>\n",
              "      <td>43197.128907</td>\n",
              "    </tr>\n",
              "    <tr>\n",
              "      <th>6</th>\n",
              "      <td>43153.570313</td>\n",
              "      <td>43153.570313</td>\n",
              "      <td>41077.445313</td>\n",
              "      <td>84196607520</td>\n",
              "      <td>42115.507813</td>\n",
              "    </tr>\n",
              "    <tr>\n",
              "      <th>7</th>\n",
              "      <td>41561.464844</td>\n",
              "      <td>42228.941406</td>\n",
              "      <td>40672.277344</td>\n",
              "      <td>28066355845</td>\n",
              "      <td>41450.609375</td>\n",
              "    </tr>\n",
              "    <tr>\n",
              "      <th>8</th>\n",
              "      <td>41734.726563</td>\n",
              "      <td>42663.949219</td>\n",
              "      <td>41338.160156</td>\n",
              "      <td>21294384372</td>\n",
              "      <td>42001.054688</td>\n",
              "    </tr>\n",
              "    <tr>\n",
              "      <th>9</th>\n",
              "      <td>41910.230469</td>\n",
              "      <td>42199.484375</td>\n",
              "      <td>39796.570313</td>\n",
              "      <td>32104232331</td>\n",
              "      <td>40998.027344</td>\n",
              "    </tr>\n",
              "    <tr>\n",
              "      <th>10</th>\n",
              "      <td>41819.507813</td>\n",
              "      <td>43001.156250</td>\n",
              "      <td>41407.753906</td>\n",
              "      <td>26327648900</td>\n",
              "      <td>42204.455078</td>\n",
              "    </tr>\n",
              "    <tr>\n",
              "      <th>11</th>\n",
              "      <td>42742.179688</td>\n",
              "      <td>44135.367188</td>\n",
              "      <td>42528.988281</td>\n",
              "      <td>33499938689</td>\n",
              "      <td>43332.177735</td>\n",
              "    </tr>\n",
              "    <tr>\n",
              "      <th>12</th>\n",
              "      <td>43946.742188</td>\n",
              "      <td>44278.421875</td>\n",
              "      <td>42447.042969</td>\n",
              "      <td>47691135082</td>\n",
              "      <td>43362.732422</td>\n",
              "    </tr>\n",
              "    <tr>\n",
              "      <th>13</th>\n",
              "      <td>42598.871094</td>\n",
              "      <td>43346.687500</td>\n",
              "      <td>41982.617188</td>\n",
              "      <td>23577403399</td>\n",
              "      <td>42664.652344</td>\n",
              "    </tr>\n",
              "    <tr>\n",
              "      <th>14</th>\n",
              "      <td>43101.898438</td>\n",
              "      <td>43724.671875</td>\n",
              "      <td>42669.035156</td>\n",
              "      <td>18371348298</td>\n",
              "      <td>43196.853515</td>\n",
              "    </tr>\n",
              "    <tr>\n",
              "      <th>15</th>\n",
              "      <td>43172.039063</td>\n",
              "      <td>43436.808594</td>\n",
              "      <td>42691.023438</td>\n",
              "      <td>17902097845</td>\n",
              "      <td>43063.916016</td>\n",
              "    </tr>\n",
              "    <tr>\n",
              "      <th>16</th>\n",
              "      <td>43118.121094</td>\n",
              "      <td>43179.390625</td>\n",
              "      <td>41680.320313</td>\n",
              "      <td>21690904261</td>\n",
              "      <td>42429.855469</td>\n",
              "    </tr>\n",
              "    <tr>\n",
              "      <th>17</th>\n",
              "      <td>42250.074219</td>\n",
              "      <td>42534.402344</td>\n",
              "      <td>41392.214844</td>\n",
              "      <td>22417209227</td>\n",
              "      <td>41963.308594</td>\n",
              "    </tr>\n",
              "    <tr>\n",
              "      <th>18</th>\n",
              "      <td>42374.039063</td>\n",
              "      <td>42478.304688</td>\n",
              "      <td>41242.914063</td>\n",
              "      <td>23091543258</td>\n",
              "      <td>41860.609375</td>\n",
              "    </tr>\n",
              "    <tr>\n",
              "      <th>19</th>\n",
              "      <td>41744.027344</td>\n",
              "      <td>43413.023438</td>\n",
              "      <td>40672.824219</td>\n",
              "      <td>20382033940</td>\n",
              "      <td>42042.923829</td>\n",
              "    </tr>\n",
              "    <tr>\n",
              "      <th>20</th>\n",
              "      <td>40699.605469</td>\n",
              "      <td>41060.527344</td>\n",
              "      <td>35791.425781</td>\n",
              "      <td>43011992031</td>\n",
              "      <td>38425.976562</td>\n",
              "    </tr>\n",
              "    <tr>\n",
              "      <th>21</th>\n",
              "      <td>36471.589844</td>\n",
              "      <td>36688.812500</td>\n",
              "      <td>34349.250000</td>\n",
              "      <td>39714385405</td>\n",
              "      <td>35519.031250</td>\n",
              "    </tr>\n",
              "    <tr>\n",
              "      <th>22</th>\n",
              "      <td>35047.359375</td>\n",
              "      <td>36433.312500</td>\n",
              "      <td>34784.968750</td>\n",
              "      <td>26017975951</td>\n",
              "      <td>35609.140625</td>\n",
              "    </tr>\n",
              "    <tr>\n",
              "      <th>23</th>\n",
              "      <td>36275.734375</td>\n",
              "      <td>37247.519531</td>\n",
              "      <td>33184.058594</td>\n",
              "      <td>41856658597</td>\n",
              "      <td>35215.789062</td>\n",
              "    </tr>\n",
              "    <tr>\n",
              "      <th>24</th>\n",
              "      <td>36654.804688</td>\n",
              "      <td>37444.570313</td>\n",
              "      <td>35779.429688</td>\n",
              "      <td>26428189594</td>\n",
              "      <td>36612.000000</td>\n",
              "    </tr>\n",
              "    <tr>\n",
              "      <th>25</th>\n",
              "      <td>36950.515625</td>\n",
              "      <td>38825.410156</td>\n",
              "      <td>36374.906250</td>\n",
              "      <td>31324598034</td>\n",
              "      <td>37600.158203</td>\n",
              "    </tr>\n",
              "    <tr>\n",
              "      <th>26</th>\n",
              "      <td>36841.878906</td>\n",
              "      <td>37148.324219</td>\n",
              "      <td>35629.281250</td>\n",
              "      <td>25041426629</td>\n",
              "      <td>36388.802735</td>\n",
              "    </tr>\n",
              "    <tr>\n",
              "      <th>27</th>\n",
              "      <td>37128.445313</td>\n",
              "      <td>37952.878906</td>\n",
              "      <td>36211.109375</td>\n",
              "      <td>22238830523</td>\n",
              "      <td>37081.994140</td>\n",
              "    </tr>\n",
              "    <tr>\n",
              "      <th>28</th>\n",
              "      <td>37780.714844</td>\n",
              "      <td>38576.261719</td>\n",
              "      <td>37406.472656</td>\n",
              "      <td>17194183075</td>\n",
              "      <td>37991.367188</td>\n",
              "    </tr>\n",
              "    <tr>\n",
              "      <th>29</th>\n",
              "      <td>38151.917969</td>\n",
              "      <td>38266.339844</td>\n",
              "      <td>37437.710938</td>\n",
              "      <td>14643548444</td>\n",
              "      <td>37852.025391</td>\n",
              "    </tr>\n",
              "    <tr>\n",
              "      <th>30</th>\n",
              "      <td>37920.281250</td>\n",
              "      <td>38647.261719</td>\n",
              "      <td>36733.574219</td>\n",
              "      <td>20734730465</td>\n",
              "      <td>37690.417969</td>\n",
              "    </tr>\n",
              "    <tr>\n",
              "      <th>31</th>\n",
              "      <td>38481.765625</td>\n",
              "      <td>39115.132813</td>\n",
              "      <td>38113.664063</td>\n",
              "      <td>20288500328</td>\n",
              "      <td>38614.398438</td>\n",
              "    </tr>\n",
              "    <tr>\n",
              "      <th>32</th>\n",
              "      <td>38743.714844</td>\n",
              "      <td>38834.617188</td>\n",
              "      <td>36832.730469</td>\n",
              "      <td>19155189416</td>\n",
              "      <td>37833.673829</td>\n",
              "    </tr>\n",
              "    <tr>\n",
              "      <th>33</th>\n",
              "      <td>36944.804688</td>\n",
              "      <td>37154.601563</td>\n",
              "      <td>36375.539063</td>\n",
              "      <td>18591534769</td>\n",
              "      <td>36765.070313</td>\n",
              "    </tr>\n",
              "    <tr>\n",
              "      <th>34</th>\n",
              "      <td>37234.058594</td>\n",
              "      <td>38121.738281</td>\n",
              "      <td>37093.628906</td>\n",
              "      <td>20987750400</td>\n",
              "      <td>37607.683593</td>\n",
              "    </tr>\n",
              "  </tbody>\n",
              "</table>\n",
              "</div>\n",
              "      <button class=\"colab-df-convert\" onclick=\"convertToInteractive('df-b2dda3c7-c601-47fe-a716-837ce5d4b69a')\"\n",
              "              title=\"Convert this dataframe to an interactive table.\"\n",
              "              style=\"display:none;\">\n",
              "        \n",
              "  <svg xmlns=\"http://www.w3.org/2000/svg\" height=\"24px\"viewBox=\"0 0 24 24\"\n",
              "       width=\"24px\">\n",
              "    <path d=\"M0 0h24v24H0V0z\" fill=\"none\"/>\n",
              "    <path d=\"M18.56 5.44l.94 2.06.94-2.06 2.06-.94-2.06-.94-.94-2.06-.94 2.06-2.06.94zm-11 1L8.5 8.5l.94-2.06 2.06-.94-2.06-.94L8.5 2.5l-.94 2.06-2.06.94zm10 10l.94 2.06.94-2.06 2.06-.94-2.06-.94-.94-2.06-.94 2.06-2.06.94z\"/><path d=\"M17.41 7.96l-1.37-1.37c-.4-.4-.92-.59-1.43-.59-.52 0-1.04.2-1.43.59L10.3 9.45l-7.72 7.72c-.78.78-.78 2.05 0 2.83L4 21.41c.39.39.9.59 1.41.59.51 0 1.02-.2 1.41-.59l7.78-7.78 2.81-2.81c.8-.78.8-2.07 0-2.86zM5.41 20L4 18.59l7.72-7.72 1.47 1.35L5.41 20z\"/>\n",
              "  </svg>\n",
              "      </button>\n",
              "      \n",
              "  <style>\n",
              "    .colab-df-container {\n",
              "      display:flex;\n",
              "      flex-wrap:wrap;\n",
              "      gap: 12px;\n",
              "    }\n",
              "\n",
              "    .colab-df-convert {\n",
              "      background-color: #E8F0FE;\n",
              "      border: none;\n",
              "      border-radius: 50%;\n",
              "      cursor: pointer;\n",
              "      display: none;\n",
              "      fill: #1967D2;\n",
              "      height: 32px;\n",
              "      padding: 0 0 0 0;\n",
              "      width: 32px;\n",
              "    }\n",
              "\n",
              "    .colab-df-convert:hover {\n",
              "      background-color: #E2EBFA;\n",
              "      box-shadow: 0px 1px 2px rgba(60, 64, 67, 0.3), 0px 1px 3px 1px rgba(60, 64, 67, 0.15);\n",
              "      fill: #174EA6;\n",
              "    }\n",
              "\n",
              "    [theme=dark] .colab-df-convert {\n",
              "      background-color: #3B4455;\n",
              "      fill: #D2E3FC;\n",
              "    }\n",
              "\n",
              "    [theme=dark] .colab-df-convert:hover {\n",
              "      background-color: #434B5C;\n",
              "      box-shadow: 0px 1px 3px 1px rgba(0, 0, 0, 0.15);\n",
              "      filter: drop-shadow(0px 1px 2px rgba(0, 0, 0, 0.3));\n",
              "      fill: #FFFFFF;\n",
              "    }\n",
              "  </style>\n",
              "\n",
              "      <script>\n",
              "        const buttonEl =\n",
              "          document.querySelector('#df-b2dda3c7-c601-47fe-a716-837ce5d4b69a button.colab-df-convert');\n",
              "        buttonEl.style.display =\n",
              "          google.colab.kernel.accessAllowed ? 'block' : 'none';\n",
              "\n",
              "        async function convertToInteractive(key) {\n",
              "          const element = document.querySelector('#df-b2dda3c7-c601-47fe-a716-837ce5d4b69a');\n",
              "          const dataTable =\n",
              "            await google.colab.kernel.invokeFunction('convertToInteractive',\n",
              "                                                     [key], {});\n",
              "          if (!dataTable) return;\n",
              "\n",
              "          const docLinkHtml = 'Like what you see? Visit the ' +\n",
              "            '<a target=\"_blank\" href=https://colab.research.google.com/notebooks/data_table.ipynb>data table notebook</a>'\n",
              "            + ' to learn more about interactive tables.';\n",
              "          element.innerHTML = '';\n",
              "          dataTable['output_type'] = 'display_data';\n",
              "          await google.colab.output.renderOutput(dataTable, element);\n",
              "          const docLink = document.createElement('div');\n",
              "          docLink.innerHTML = docLinkHtml;\n",
              "          element.appendChild(docLink);\n",
              "        }\n",
              "      </script>\n",
              "    </div>\n",
              "  </div>\n",
              "  "
            ],
            "text/plain": [
              "            Open          High           Low       Volume  Mean_low_high\n",
              "0   46311.746094  47827.312500  46288.484375  24582667004   47057.898438\n",
              "1   47680.925781  47881.406250  46856.937500  27951569547   47369.171875\n",
              "2   47343.542969  47510.726563  45835.964844  33071628362   46673.345704\n",
              "3   46458.851563  47406.546875  45752.464844  42494677905   46579.505860\n",
              "4   45899.359375  46929.046875  42798.222656  36851084859   44863.634765\n",
              "5   43565.511719  43748.718750  42645.539063  30208048289   43197.128907\n",
              "6   43153.570313  43153.570313  41077.445313  84196607520   42115.507813\n",
              "7   41561.464844  42228.941406  40672.277344  28066355845   41450.609375\n",
              "8   41734.726563  42663.949219  41338.160156  21294384372   42001.054688\n",
              "9   41910.230469  42199.484375  39796.570313  32104232331   40998.027344\n",
              "10  41819.507813  43001.156250  41407.753906  26327648900   42204.455078\n",
              "11  42742.179688  44135.367188  42528.988281  33499938689   43332.177735\n",
              "12  43946.742188  44278.421875  42447.042969  47691135082   43362.732422\n",
              "13  42598.871094  43346.687500  41982.617188  23577403399   42664.652344\n",
              "14  43101.898438  43724.671875  42669.035156  18371348298   43196.853515\n",
              "15  43172.039063  43436.808594  42691.023438  17902097845   43063.916016\n",
              "16  43118.121094  43179.390625  41680.320313  21690904261   42429.855469\n",
              "17  42250.074219  42534.402344  41392.214844  22417209227   41963.308594\n",
              "18  42374.039063  42478.304688  41242.914063  23091543258   41860.609375\n",
              "19  41744.027344  43413.023438  40672.824219  20382033940   42042.923829\n",
              "20  40699.605469  41060.527344  35791.425781  43011992031   38425.976562\n",
              "21  36471.589844  36688.812500  34349.250000  39714385405   35519.031250\n",
              "22  35047.359375  36433.312500  34784.968750  26017975951   35609.140625\n",
              "23  36275.734375  37247.519531  33184.058594  41856658597   35215.789062\n",
              "24  36654.804688  37444.570313  35779.429688  26428189594   36612.000000\n",
              "25  36950.515625  38825.410156  36374.906250  31324598034   37600.158203\n",
              "26  36841.878906  37148.324219  35629.281250  25041426629   36388.802735\n",
              "27  37128.445313  37952.878906  36211.109375  22238830523   37081.994140\n",
              "28  37780.714844  38576.261719  37406.472656  17194183075   37991.367188\n",
              "29  38151.917969  38266.339844  37437.710938  14643548444   37852.025391\n",
              "30  37920.281250  38647.261719  36733.574219  20734730465   37690.417969\n",
              "31  38481.765625  39115.132813  38113.664063  20288500328   38614.398438\n",
              "32  38743.714844  38834.617188  36832.730469  19155189416   37833.673829\n",
              "33  36944.804688  37154.601563  36375.539063  18591534769   36765.070313\n",
              "34  37234.058594  38121.738281  37093.628906  20987750400   37607.683593"
            ]
          },
          "metadata": {},
          "execution_count": 117
        }
      ]
    },
    {
      "cell_type": "code",
      "source": [
        "Y_ott.reset_index(drop=True, inplace=True)\n",
        "Y_ott"
      ],
      "metadata": {
        "id": "LkftQyh0A9E9",
        "colab": {
          "base_uri": "https://localhost:8080/"
        },
        "outputId": "49c53eb7-622a-4235-edcb-506a146f5957"
      },
      "execution_count": 118,
      "outputs": [
        {
          "output_type": "execute_result",
          "data": {
            "text/plain": [
              "0     47686.812500\n",
              "1     47345.218750\n",
              "2     46458.117188\n",
              "3     45897.574219\n",
              "4     43569.003906\n",
              "5     43160.929688\n",
              "6     41557.902344\n",
              "7     41733.941406\n",
              "8     41911.601563\n",
              "9     41821.261719\n",
              "10    42735.855469\n",
              "11    43949.101563\n",
              "12    42591.570313\n",
              "13    43099.699219\n",
              "14    43177.398438\n",
              "15    43113.878906\n",
              "16    42250.550781\n",
              "17    42375.632813\n",
              "18    41744.328125\n",
              "19    40680.417969\n",
              "20    36457.316406\n",
              "21    35030.250000\n",
              "22    36276.804688\n",
              "23    36654.328125\n",
              "24    36954.003906\n",
              "25    36852.121094\n",
              "26    37138.234375\n",
              "27    37784.332031\n",
              "28    38138.179688\n",
              "29    37917.601563\n",
              "30    38483.125000\n",
              "31    38743.273438\n",
              "32    36952.984375\n",
              "33    37154.601563\n",
              "34    37649.335938\n",
              "Name: Adj Close, dtype: float64"
            ]
          },
          "metadata": {},
          "execution_count": 118
        }
      ]
    },
    {
      "cell_type": "code",
      "source": [
        "X_ott_std= scaler.transform(X_ott)"
      ],
      "metadata": {
        "id": "9LIq1BOwBFGa"
      },
      "execution_count": 119,
      "outputs": []
    },
    {
      "cell_type": "code",
      "source": [
        "X_ott_std"
      ],
      "metadata": {
        "colab": {
          "base_uri": "https://localhost:8080/"
        },
        "id": "0Sc9qLueBLfn",
        "outputId": "6bcb9562-50fb-41a6-a196-12a0142d50dd"
      },
      "execution_count": 120,
      "outputs": [
        {
          "output_type": "execute_result",
          "data": {
            "text/plain": [
              "array([[ 2.02145369,  2.03552965,  2.11019506,  0.33609244,  2.07230853],\n",
              "       [ 2.10455395,  2.03872453,  2.14581909,  0.49768822,  2.09124266],\n",
              "       [ 2.08407702,  2.01683147,  2.08183639,  0.74328152,  2.04891698],\n",
              "       [ 2.03038203,  2.01067841,  2.07660358,  1.19527591,  2.04320889],\n",
              "       [ 1.99642451,  1.98247633,  1.89146601,  0.9245703 ,  1.93883597],\n",
              "       [ 1.85477521,  1.79463996,  1.88189757,  0.60592449,  1.83746583],\n",
              "       [ 1.82977306,  1.75948933,  1.78362768,  3.19558782,  1.77167304],\n",
              "       [ 1.73314266,  1.70487894,  1.75823645,  0.50319416,  1.73122863],\n",
              "       [ 1.74365852,  1.73057135,  1.79996625,  0.17836374,  1.76471109],\n",
              "       [ 1.75431046,  1.70313915,  1.70335731,  0.69687854,  1.70369899],\n",
              "       [ 1.74880418,  1.75048746,  1.80432758,  0.41979379,  1.77708352],\n",
              "       [ 1.80480434,  1.81747617,  1.87459352,  0.76382624,  1.84568058],\n",
              "       [ 1.87791341,  1.82592525,  1.86945814,  1.44453381,  1.84753916],\n",
              "       [ 1.79610644,  1.77089521,  1.84035333,  0.28787307,  1.80507638],\n",
              "       [ 1.82663691,  1.7932197 ,  1.88337003,  0.03815479,  1.83744908],\n",
              "       [ 1.83089399,  1.77621793,  1.884748  ,  0.01564631,  1.82936277],\n",
              "       [ 1.82762152,  1.76101433,  1.82140888,  0.19738357,  1.79079416],\n",
              "       [ 1.77493675,  1.72292006,  1.80335377,  0.23222216,  1.76241507],\n",
              "       [ 1.78246061,  1.71960683,  1.79399733,  0.26456787,  1.75616809],\n",
              "       [ 1.74422301,  1.77481314,  1.75827073,  0.13460113,  1.7672579 ],\n",
              "       [ 1.68083343,  1.63587013,  1.45236139,  1.22008986,  1.54724641],\n",
              "       [ 1.42422051,  1.37766814,  1.36198257,  1.06191392,  1.37042289],\n",
              "       [ 1.33777903,  1.36257781,  1.38928836,  0.40493975,  1.37590406],\n",
              "       [ 1.41233337,  1.41066646,  1.28896191,  1.16467211,  1.35197729],\n",
              "       [ 1.43534046,  1.42230467,  1.45160961,  0.42461642,  1.43690594],\n",
              "       [ 1.45328818,  1.50385976,  1.48892717,  0.65948191,  1.49701358],\n",
              "       [ 1.44669464,  1.40480779,  1.44220005,  0.35809771,  1.4233293 ],\n",
              "       [ 1.46408735,  1.45232636,  1.47866228,  0.22366589,  1.46549472],\n",
              "       [ 1.50367585,  1.48914457,  1.55357376, -0.01831016,  1.52081002],\n",
              "       [ 1.52620545,  1.47083998,  1.55553141, -0.14065618,  1.51233414],\n",
              "       [ 1.51214662,  1.49333796,  1.51140431,  0.15151889,  1.50250389],\n",
              "       [ 1.54622505,  1.52097134,  1.5978923 ,  0.13011461,  1.55870773],\n",
              "       [ 1.56212365,  1.50440354,  1.51761827,  0.07575321,  1.51121785],\n",
              "       [ 1.45294156,  1.40517855,  1.48896682,  0.04871645,  1.44621689],\n",
              "       [ 1.47049738,  1.46229953,  1.53396835,  0.16365547,  1.49747133]])"
            ]
          },
          "metadata": {},
          "execution_count": 120
        }
      ]
    },
    {
      "cell_type": "code",
      "source": [
        "ott_pred=model.predict(X_ott_std)\n",
        "ott_pred"
      ],
      "metadata": {
        "id": "HuWqaTFnBaEe",
        "colab": {
          "base_uri": "https://localhost:8080/"
        },
        "outputId": "00e35710-2341-4c23-98dd-445fca44e44b"
      },
      "execution_count": 121,
      "outputs": [
        {
          "output_type": "execute_result",
          "data": {
            "text/plain": [
              "array([47462.25834909, 47124.60732343, 46298.48653494, 46662.0907561 ,\n",
              "       44536.85891437, 42948.46298931, 41647.27767277, 41398.13066584,\n",
              "       42129.9141663 , 40581.15700785, 42431.832871  , 43680.27542654,\n",
              "       43082.45461486, 42683.20073447, 43193.37646707, 42914.52098005,\n",
              "       42032.86102601, 41761.51244537, 41540.62290803, 42329.39275805,\n",
              "       37543.85463437, 35104.64058024, 35970.01789846, 34915.11929749,\n",
              "       36627.67493228, 38087.82580907, 36156.61446301, 37096.6004908 ,\n",
              "       38085.70915855, 37620.62157766, 37613.7669873 , 38648.52260273,\n",
              "       37377.48149126, 36605.88956072, 37786.24402782])"
            ]
          },
          "metadata": {},
          "execution_count": 121
        }
      ]
    },
    {
      "cell_type": "code",
      "source": [
        "#model evaluation on test data\n",
        "# R_2 score \n",
        "r2_score_test = r2_score(Y_ott, ott_pred)\n",
        "r2_score_test"
      ],
      "metadata": {
        "colab": {
          "base_uri": "https://localhost:8080/"
        },
        "id": "xO5KgCUfCxUB",
        "outputId": "0c6c40a8-c684-46ec-9749-b62b75e9bfb4"
      },
      "execution_count": 122,
      "outputs": [
        {
          "output_type": "execute_result",
          "data": {
            "text/plain": [
              "0.9610769390485393"
            ]
          },
          "metadata": {},
          "execution_count": 122
        }
      ]
    },
    {
      "cell_type": "code",
      "source": [
        "#mean squared error\n",
        "mse=mean_squared_error(Y_ott, ott_pred)\n",
        "mse"
      ],
      "metadata": {
        "colab": {
          "base_uri": "https://localhost:8080/"
        },
        "id": "o3rs9wz0DuAK",
        "outputId": "68fa4546-f373-485a-a074-7f0b5da351db"
      },
      "execution_count": 123,
      "outputs": [
        {
          "output_type": "execute_result",
          "data": {
            "text/plain": [
              "455209.035248128"
            ]
          },
          "metadata": {},
          "execution_count": 123
        }
      ]
    },
    {
      "cell_type": "code",
      "source": [
        "#mean absolute error\n",
        "mae=mean_absolute_error(Y_ott, ott_pred)\n",
        "mae"
      ],
      "metadata": {
        "colab": {
          "base_uri": "https://localhost:8080/"
        },
        "id": "uwrAK8_eMWSD",
        "outputId": "6e07d954-33ab-4c2b-a46d-3961e9a5f719"
      },
      "execution_count": 124,
      "outputs": [
        {
          "output_type": "execute_result",
          "data": {
            "text/plain": [
              "505.0080457238108"
            ]
          },
          "metadata": {},
          "execution_count": 124
        }
      ]
    },
    {
      "cell_type": "code",
      "source": [
        "plt.plot(Y_ott, label = 'Actual Value')\n",
        "plt.plot(ott_pred, label = 'Predicted Value')\n",
        "plt.title(\"Actual v/s Predicted\")\n",
        "plt.xlabel('Time preiod')\n",
        "plt.ylabel('stock price')\n",
        "plt.legend()\n",
        "plt.show()"
      ],
      "metadata": {
        "colab": {
          "base_uri": "https://localhost:8080/",
          "height": 295
        },
        "id": "VoNUhIxjRkk-",
        "outputId": "f33fbfb3-6e81-4553-a506-51cc45e89173"
      },
      "execution_count": 125,
      "outputs": [
        {
          "output_type": "display_data",
          "data": {
            "image/png": "[encoded data removed]",
            "text/plain": [
              "<Figure size 432x288 with 1 Axes>"
            ]
          },
          "metadata": {
            "needs_background": "light"
          }
        }
      ]
    }
  ]
}